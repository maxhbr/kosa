{
 "cells": [
  {
   "cell_type": "markdown",
   "metadata": {},
   "source": [
    "# Kosa Python Client\n",
    "\n",
    "First one creates a python client. The UUID of the player is stored in `player_id`. If one creates a second client, one obtains a new player id."
   ]
  },
  {
   "cell_type": "code",
   "execution_count": 1,
   "metadata": {},
   "outputs": [
    {
     "name": "stdout",
     "output_type": "stream",
     "text": [
      "The first player has uuid 86a9e7c8-b61c-486f-a101-0b87d0a1c686\n",
      "The second player has uuid 7f99afd2-add0-48a4-b32a-4556ef524468\n"
     ]
    }
   ],
   "source": [
    "from kosa import Client\n",
    "client = Client()\n",
    "second_client = Client()\n",
    "print('The first player has uuid {}'.format(client.player_id))\n",
    "print('The second player has uuid {}'.format(second_client.player_id))"
   ]
  },
  {
   "cell_type": "markdown",
   "metadata": {},
   "source": [
    "## Joining and starting a game a game\n",
    "\n",
    "The function `join_a_game` allows the player to join a game. The function `get_waiting_games` returns the list of \n",
    "waiting games. The logic behind `join_a_game` is to join a game if one is waiting, otherwise create a new one.\n",
    "\n",
    "The game can then be started with `start`"
   ]
  },
  {
   "cell_type": "code",
   "execution_count": 2,
   "metadata": {},
   "outputs": [
    {
     "name": "stdout",
     "output_type": "stream",
     "text": [
      "Waiting games  []\n",
      "Waiting games  [['541138ae-2e0a-45c1-b173-e01c741c8927', [{'playerId': {'playerId': '86a9e7c8-b61c-486f-a101-0b87d0a1c686'}, 'faction': 'PURPLE', 'setupEvents': [{'playerId': {'playerId': '86a9e7c8-b61c-486f-a101-0b87d0a1c686'}, 'unit': {'name': 'CHARACTER'}, 'destination': {'type': 'HOMEBASE', 'name': 'purple'}}, {'playerId': {'playerId': '86a9e7c8-b61c-486f-a101-0b87d0a1c686'}, 'unit': {'name': 'WORKER_1'}, 'destination': {'type': 'TUNDRA', 'name': 't7'}}, {'playerId': {'playerId': '86a9e7c8-b61c-486f-a101-0b87d0a1c686'}, 'unit': {'name': 'WORKER_2'}, 'destination': {'type': 'FARM', 'name': 'f7'}}, {'combatCard': {'value': 2}, 'playerId': {'playerId': '86a9e7c8-b61c-486f-a101-0b87d0a1c686'}}, {'combatCard': {'value': 2}, 'playerId': {'playerId': '86a9e7c8-b61c-486f-a101-0b87d0a1c686'}}], 'playerMat': {'actionMap': {}, 'topActionBaseCost': {}, 'bottomActionBaseCost': {}, 'setupEvents': [{'playerId': {'playerId': '86a9e7c8-b61c-486f-a101-0b87d0a1c686'}, 'popularity': 4}, {'playerId': {'playerId': '86a9e7c8-b61c-486f-a101-0b87d0a1c686'}, 'coins': 7}], 'startPosition': 7, 'bottomActionReward': {}}}]]]\n"
     ]
    }
   ],
   "source": [
    "print('Waiting games ', client.get_waiting_games())\n",
    "client.join_a_game()\n",
    "print('Waiting games ', client.get_waiting_games())\n",
    "client.start()"
   ]
  },
  {
   "cell_type": "markdown",
   "metadata": {},
   "source": [
    "## Performing actions\n",
    "\n",
    "The function `get_available_actions` allows one to retrieve the list of available actions.\n",
    "\n",
    "The function `get_available_options(action)` retrieves a list of possible options for the action.\n",
    "\n",
    "The action can then be performed with `perform_aciton`."
   ]
  },
  {
   "cell_type": "code",
   "execution_count": 3,
   "metadata": {},
   "outputs": [
    {
     "name": "stdout",
     "output_type": "stream",
     "text": [
      "Available actions  ['TRADE', 'BOLSTER', 'MOVE', 'PRODUCE']\n",
      "Available options  ['{\"type\":\"BolsterPowerOption\"}', '{\"type\":\"BolsterCombatCardsOption\"}']\n"
     ]
    }
   ],
   "source": [
    "print('Available actions ', client.get_available_actions())\n",
    "print('Available options ', client.get_available_options('BOLSTER'))\n",
    "\n",
    "client.perform_action('BOLSTER', 1)"
   ]
  },
  {
   "cell_type": "markdown",
   "metadata": {},
   "source": [
    "## Exporting the game\n",
    "\n",
    "The function `export` lets you export a game."
   ]
  },
  {
   "cell_type": "code",
   "execution_count": 4,
   "metadata": {},
   "outputs": [
    {
     "data": {
      "text/plain": [
       "'\\n\\x1b[33;01m\\n\\x1b[33;01m7f99afd2-add0-48a4-b32a-4556ef524468 imported 65a4eee4-bfb5-4708-854b-92ea21d8ff4c\\x1b[0m\\n\\x1b[0m\\n'"
      ]
     },
     "execution_count": 4,
     "metadata": {},
     "output_type": "execute_result"
    }
   ],
   "source": [
    "game = client.export_game()\n",
    "second_client.import_game(game)"
   ]
  }
 ],
 "metadata": {
  "kernelspec": {
   "display_name": "Python 3",
   "language": "python",
   "name": "python3"
  },
  "language_info": {
   "codemirror_mode": {
    "name": "ipython",
    "version": 3
   },
   "file_extension": ".py",
   "mimetype": "text/x-python",
   "name": "python",
   "nbconvert_exporter": "python",
   "pygments_lexer": "ipython3",
   "version": "3.5.2"
  }
 },
 "nbformat": 4,
 "nbformat_minor": 2
}

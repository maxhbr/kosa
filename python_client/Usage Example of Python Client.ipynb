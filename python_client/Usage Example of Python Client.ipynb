{
 "cells": [
  {
   "cell_type": "markdown",
   "metadata": {},
   "source": [
    "# Kosa Python Client\n",
    "\n",
    "First one creates a python client. The UUID of the player is stored in `player_id`. If one creates a second client, one obtains a new player id."
   ]
  },
  {
   "cell_type": "code",
   "execution_count": 3,
   "metadata": {},
   "outputs": [
    {
     "name": "stdout",
     "output_type": "stream",
     "text": [
      "The first player has uuid 4bf39530-ef4f-4206-a189-5c3e5620643a\n",
      "The second player has uuid dc085420-bd4d-4d62-870a-f8531b26f9e6\n"
     ]
    }
   ],
   "source": [
    "from kosa import Client\n",
    "client = Client()\n",
    "second_client = Client()\n",
    "print('The first player has uuid {}'.format(client.player_id))\n",
    "print('The second player has uuid {}'.format(second_client.player_id))"
   ]
  },
  {
   "cell_type": "markdown",
   "metadata": {},
   "source": [
    "## Joining and starting a game a game\n",
    "\n",
    "The function `join_a_game` allows the player to join a game. The function `get_waiting_games` returns the list of \n",
    "waiting games. The logic behind `join_a_game` is to join a game if one is waiting, otherwise create a new one.\n",
    "\n",
    "The game can then be started with `start`"
   ]
  },
  {
   "cell_type": "code",
   "execution_count": 4,
   "metadata": {},
   "outputs": [
    {
     "name": "stdout",
     "output_type": "stream",
     "text": [
      "Waiting games  []\n",
      "Waiting games  [['162fb636-08f2-49ad-9620-db49703a2c34', [{'faction': 'YELLOW', 'setupEvents': [{'unit': {'name': 'CHARACTER'}, 'playerId': {'playerId': '4bf39530-ef4f-4206-a189-5c3e5620643a'}, 'destination': {'name': 'yellow', 'type': 'HOMEBASE'}}, {'unit': {'name': 'WORKER_1'}, 'playerId': {'playerId': '4bf39530-ef4f-4206-a189-5c3e5620643a'}, 'destination': {'name': 'f6', 'type': 'FARM'}}, {'unit': {'name': 'WORKER_2'}, 'playerId': {'playerId': '4bf39530-ef4f-4206-a189-5c3e5620643a'}, 'destination': {'name': 'v9', 'type': 'VILLAGE'}}, {'power': 5, 'playerId': {'playerId': '4bf39530-ef4f-4206-a189-5c3e5620643a'}}], 'playerId': {'playerId': '4bf39530-ef4f-4206-a189-5c3e5620643a'}, 'playerMat': {'startPosition': 6, 'setupEvents': [{'playerId': {'playerId': '4bf39530-ef4f-4206-a189-5c3e5620643a'}, 'popularity': 3}, {'coins': 6, 'playerId': {'playerId': '4bf39530-ef4f-4206-a189-5c3e5620643a'}}], 'topActionBaseCost': {}, 'bottomActionReward': {}, 'actionMap': {}, 'bottomActionBaseCost': {}}}]]]\n"
     ]
    }
   ],
   "source": [
    "print('Waiting games ', client.get_waiting_games())\n",
    "client.join_a_game()\n",
    "print('Waiting games ', client.get_waiting_games())\n",
    "client.start()"
   ]
  },
  {
   "cell_type": "markdown",
   "metadata": {},
   "source": [
    "## Performing actions\n",
    "\n",
    "The function `get_available_actions` allows one to retrieve the list of available actions.\n",
    "\n",
    "The function `get_available_options(action)` retrieves a list of possible options for the action.\n",
    "\n",
    "The action can then be performed with `perform_aciton`."
   ]
  },
  {
   "cell_type": "code",
   "execution_count": 6,
   "metadata": {},
   "outputs": [
    {
     "name": "stdout",
     "output_type": "stream",
     "text": [
      "Available actions  ['TRADE', 'BOLSTER', 'MOVE', 'PRODUCE']\n",
      "Available options  ['{\"type\":\"BolsterPowerOption\"}', '{\"type\":\"BolsterCombatCardsOption\"}']\n"
     ]
    }
   ],
   "source": [
    "print('Available actions ', client.get_available_actions())\n",
    "print('Available options ', client.get_available_options('BOLSTER'))\n",
    "\n",
    "client.perform_action('BOLSTER', 1)"
   ]
  },
  {
   "cell_type": "markdown",
   "metadata": {},
   "source": [
    "## Exporting the game\n",
    "\n",
    "The function `export` lets you export a game."
   ]
  },
  {
   "cell_type": "code",
   "execution_count": 8,
   "metadata": {},
   "outputs": [
    {
     "data": {
      "text/plain": [
       "[{'player': {'faction': 'YELLOW',\n",
       "   'playerId': {'playerId': '4bf39530-ef4f-4206-a189-5c3e5620643a'},\n",
       "   'playerMat': {'actionMap': {},\n",
       "    'bottomActionBaseCost': {},\n",
       "    'bottomActionReward': {},\n",
       "    'setupEvents': [{'playerId': {'playerId': '4bf39530-ef4f-4206-a189-5c3e5620643a'},\n",
       "      'popularity': 3,\n",
       "      'type': 'PopularityEvent'},\n",
       "     {'coins': 6,\n",
       "      'playerId': {'playerId': '4bf39530-ef4f-4206-a189-5c3e5620643a'},\n",
       "      'type': 'CoinEvent'}],\n",
       "    'startPosition': 6,\n",
       "    'topActionBaseCost': {}},\n",
       "   'setupEvents': [{'destination': {'name': 'yellow', 'type': 'HOMEBASE'},\n",
       "     'playerId': {'playerId': '4bf39530-ef4f-4206-a189-5c3e5620643a'},\n",
       "     'type': 'DeployEvent',\n",
       "     'unit': {'name': 'CHARACTER'}},\n",
       "    {'destination': {'name': 'f6', 'type': 'FARM'},\n",
       "     'playerId': {'playerId': '4bf39530-ef4f-4206-a189-5c3e5620643a'},\n",
       "     'type': 'DeployEvent',\n",
       "     'unit': {'name': 'WORKER_1'}},\n",
       "    {'destination': {'name': 'v9', 'type': 'VILLAGE'},\n",
       "     'playerId': {'playerId': '4bf39530-ef4f-4206-a189-5c3e5620643a'},\n",
       "     'type': 'DeployEvent',\n",
       "     'unit': {'name': 'WORKER_2'}},\n",
       "    {'playerId': {'playerId': '4bf39530-ef4f-4206-a189-5c3e5620643a'},\n",
       "     'power': 5,\n",
       "     'type': 'PowerEvent'}]},\n",
       "  'playerId': {'playerId': '4bf39530-ef4f-4206-a189-5c3e5620643a'},\n",
       "  'type': 'NewPlayerEvent'},\n",
       " {'destination': {'name': 'yellow', 'type': 'HOMEBASE'},\n",
       "  'playerId': {'playerId': '4bf39530-ef4f-4206-a189-5c3e5620643a'},\n",
       "  'type': 'DeployEvent',\n",
       "  'unit': {'name': 'CHARACTER'}},\n",
       " {'destination': {'name': 'f6', 'type': 'FARM'},\n",
       "  'playerId': {'playerId': '4bf39530-ef4f-4206-a189-5c3e5620643a'},\n",
       "  'type': 'DeployEvent',\n",
       "  'unit': {'name': 'WORKER_1'}},\n",
       " {'destination': {'name': 'v9', 'type': 'VILLAGE'},\n",
       "  'playerId': {'playerId': '4bf39530-ef4f-4206-a189-5c3e5620643a'},\n",
       "  'type': 'DeployEvent',\n",
       "  'unit': {'name': 'WORKER_2'}},\n",
       " {'playerId': {'playerId': '4bf39530-ef4f-4206-a189-5c3e5620643a'},\n",
       "  'power': 5,\n",
       "  'type': 'PowerEvent'},\n",
       " {'playerId': {'playerId': '4bf39530-ef4f-4206-a189-5c3e5620643a'},\n",
       "  'popularity': 3,\n",
       "  'type': 'PopularityEvent'},\n",
       " {'coins': 6,\n",
       "  'playerId': {'playerId': '4bf39530-ef4f-4206-a189-5c3e5620643a'},\n",
       "  'type': 'CoinEvent'},\n",
       " {'action': 'BOLSTER',\n",
       "  'playerId': {'playerId': '4bf39530-ef4f-4206-a189-5c3e5620643a'},\n",
       "  'type': 'ActionEvent'},\n",
       " {'combatCard': {'value': 2},\n",
       "  'playerId': {'playerId': '4bf39530-ef4f-4206-a189-5c3e5620643a'},\n",
       "  'type': 'GainCombatCardEvent'},\n",
       " {'coins': -1,\n",
       "  'playerId': {'playerId': '4bf39530-ef4f-4206-a189-5c3e5620643a'},\n",
       "  'type': 'CoinEvent'},\n",
       " {'playerId': {'playerId': '4bf39530-ef4f-4206-a189-5c3e5620643a'},\n",
       "  'type': 'PassEvent'}]"
      ]
     },
     "execution_count": 8,
     "metadata": {},
     "output_type": "execute_result"
    }
   ],
   "source": [
    "client.export()"
   ]
  }
 ],
 "metadata": {
  "kernelspec": {
   "display_name": "Python 3",
   "language": "python",
   "name": "python3"
  },
  "language_info": {
   "codemirror_mode": {
    "name": "ipython",
    "version": 3
   },
   "file_extension": ".py",
   "mimetype": "text/x-python",
   "name": "python",
   "nbconvert_exporter": "python",
   "pygments_lexer": "ipython3",
   "version": "3.5.2"
  }
 },
 "nbformat": 4,
 "nbformat_minor": 2
}

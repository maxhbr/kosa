{
 "cells": [
  {
   "cell_type": "markdown",
   "metadata": {},
   "source": [
    "# Kosa Python Client\n",
    "\n",
    "First one creates a python client. The UUID of the player is stored in `player_id`. If one creates a second client, one obtains a new player id."
   ]
  },
  {
   "cell_type": "code",
   "execution_count": 1,
   "metadata": {},
   "outputs": [
    {
     "name": "stdout",
     "output_type": "stream",
     "text": [
      "The first player has uuid 7d0cb5ea-492d-4519-afef-d8c6917d0883\n",
      "The second player has uuid f1c562c8-15b7-465b-9f70-3744f48e949c\n"
     ]
    }
   ],
   "source": [
    "from kosa import Client\n",
    "client = Client()\n",
    "second_client = Client()\n",
    "print('The first player has uuid {}'.format(client.player_id))\n",
    "print('The second player has uuid {}'.format(second_client.player_id))"
   ]
  },
  {
   "cell_type": "markdown",
   "metadata": {},
   "source": [
    "## Joining and starting a game a game\n",
    "\n",
    "The function `join_a_game` allows the player to join a game. The function `get_waiting_games` returns the list of \n",
    "waiting games. The logic behind `join_a_game` is to join a game if one is waiting, otherwise create a new one.\n",
    "\n",
    "The game can then be started with `start`"
   ]
  },
  {
   "cell_type": "code",
   "execution_count": 2,
   "metadata": {},
   "outputs": [
    {
     "name": "stdout",
     "output_type": "stream",
     "text": [
      "Waiting games  []\n",
      "Waiting games  [['dfbcfae8-90ed-4ef6-a189-ed6781e41ab9', [{'playerId': {'playerId': '7d0cb5ea-492d-4519-afef-d8c6917d0883'}, 'setupEvents': [{'playerId': {'playerId': '7d0cb5ea-492d-4519-afef-d8c6917d0883'}, 'destination': {'type': 'HOMEBASE', 'name': 'green'}, 'unit': {'name': 'CHARACTER'}}, {'playerId': {'playerId': '7d0cb5ea-492d-4519-afef-d8c6917d0883'}, 'destination': {'type': 'MOUNTAIN', 'name': 'm1'}, 'unit': {'name': 'WORKER_1'}}, {'playerId': {'playerId': '7d0cb5ea-492d-4519-afef-d8c6917d0883'}, 'destination': {'type': 'FARM', 'name': 'f1'}, 'unit': {'name': 'WORKER_2'}}, {'playerId': {'playerId': '7d0cb5ea-492d-4519-afef-d8c6917d0883'}, 'power': 3}], 'faction': 'GREEN', 'playerMat': {'bottomActionBaseCost': {}, 'bottomActionReward': {}, 'startPosition': 7, 'actionMap': {}, 'setupEvents': [{'popularity': 4, 'playerId': {'playerId': '7d0cb5ea-492d-4519-afef-d8c6917d0883'}}, {'playerId': {'playerId': '7d0cb5ea-492d-4519-afef-d8c6917d0883'}, 'coins': 7}], 'topActionBaseCost': {}}}]]]\n"
     ]
    }
   ],
   "source": [
    "print('Waiting games ', client.get_waiting_games())\n",
    "client.join_a_game()\n",
    "print('Waiting games ', client.get_waiting_games())\n",
    "client.start()"
   ]
  },
  {
   "cell_type": "markdown",
   "metadata": {},
   "source": [
    "## Performing actions\n",
    "\n",
    "The function `get_available_actions` allows one to retrieve the list of available actions.\n",
    "\n",
    "The function `get_available_options(action)` retrieves a list of possible options for the action.\n",
    "\n",
    "The action can then be performed with `perform_aciton`."
   ]
  },
  {
   "cell_type": "code",
   "execution_count": 3,
   "metadata": {},
   "outputs": [
    {
     "name": "stdout",
     "output_type": "stream",
     "text": [
      "Available actions  ['TRADE', 'BOLSTER', 'MOVE', 'PRODUCE']\n",
      "Available options  ['{\"type\":\"BolsterPowerOption\"}', '{\"type\":\"BolsterCombatCardsOption\"}']\n"
     ]
    }
   ],
   "source": [
    "print('Available actions ', client.get_available_actions())\n",
    "print('Available options ', client.get_available_options('BOLSTER'))\n",
    "\n",
    "client.perform_action('BOLSTER', 1)"
   ]
  },
  {
   "cell_type": "markdown",
   "metadata": {},
   "source": [
    "## Exporting the game\n",
    "\n",
    "The function `export` lets you export a game."
   ]
  },
  {
   "cell_type": "code",
   "execution_count": 4,
   "metadata": {},
   "outputs": [],
   "source": [
    "game = client.export_game()\n",
    "s = second_client.import_game(game)"
   ]
  },
  {
   "cell_type": "code",
   "execution_count": 6,
   "metadata": {},
   "outputs": [
    {
     "data": {
      "text/plain": [
       "[{'player': {'faction': 'BLACK',\n",
       "   'playerId': {'playerId': 'f776a9c7-d165-4301-a528-04130225abdd'},\n",
       "   'playerMat': {'actionMap': {},\n",
       "    'bottomActionBaseCost': {},\n",
       "    'bottomActionReward': {},\n",
       "    'setupEvents': [{'playerId': {'playerId': 'f776a9c7-d165-4301-a528-04130225abdd'},\n",
       "      'popularity': 3,\n",
       "      'type': 'PopularityEvent'},\n",
       "     {'coins': 6,\n",
       "      'playerId': {'playerId': 'f776a9c7-d165-4301-a528-04130225abdd'},\n",
       "      'type': 'CoinEvent'}],\n",
       "    'startPosition': 6,\n",
       "    'topActionBaseCost': {}},\n",
       "   'setupEvents': [{'destination': {'name': 'black', 'type': 'HOMEBASE'},\n",
       "     'playerId': {'playerId': 'f776a9c7-d165-4301-a528-04130225abdd'},\n",
       "     'type': 'DeployEvent',\n",
       "     'unit': {'name': 'CHARACTER'}},\n",
       "    {'destination': {'name': 'm6', 'type': 'MOUNTAIN'},\n",
       "     'playerId': {'playerId': 'f776a9c7-d165-4301-a528-04130225abdd'},\n",
       "     'type': 'DeployEvent',\n",
       "     'unit': {'name': 'WORKER_1'}},\n",
       "    {'destination': {'name': 't8', 'type': 'TUNDRA'},\n",
       "     'playerId': {'playerId': 'f776a9c7-d165-4301-a528-04130225abdd'},\n",
       "     'type': 'DeployEvent',\n",
       "     'unit': {'name': 'WORKER_2'}},\n",
       "    {'playerId': {'playerId': 'f776a9c7-d165-4301-a528-04130225abdd'},\n",
       "     'power': 1,\n",
       "     'type': 'PowerEvent'},\n",
       "    {'combatCard': {'value': 2},\n",
       "     'playerId': {'playerId': 'f776a9c7-d165-4301-a528-04130225abdd'},\n",
       "     'type': 'GainCombatCardEvent'},\n",
       "    {'combatCard': {'value': 2},\n",
       "     'playerId': {'playerId': 'f776a9c7-d165-4301-a528-04130225abdd'},\n",
       "     'type': 'GainCombatCardEvent'},\n",
       "    {'combatCard': {'value': 2},\n",
       "     'playerId': {'playerId': 'f776a9c7-d165-4301-a528-04130225abdd'},\n",
       "     'type': 'GainCombatCardEvent'},\n",
       "    {'combatCard': {'value': 2},\n",
       "     'playerId': {'playerId': 'f776a9c7-d165-4301-a528-04130225abdd'},\n",
       "     'type': 'GainCombatCardEvent'}]},\n",
       "  'playerId': {'playerId': 'f776a9c7-d165-4301-a528-04130225abdd'},\n",
       "  'type': 'NewPlayerEvent'},\n",
       " {'destination': {'name': 'black', 'type': 'HOMEBASE'},\n",
       "  'playerId': {'playerId': 'f776a9c7-d165-4301-a528-04130225abdd'},\n",
       "  'type': 'DeployEvent',\n",
       "  'unit': {'name': 'CHARACTER'}},\n",
       " {'destination': {'name': 'm6', 'type': 'MOUNTAIN'},\n",
       "  'playerId': {'playerId': 'f776a9c7-d165-4301-a528-04130225abdd'},\n",
       "  'type': 'DeployEvent',\n",
       "  'unit': {'name': 'WORKER_1'}},\n",
       " {'destination': {'name': 't8', 'type': 'TUNDRA'},\n",
       "  'playerId': {'playerId': 'f776a9c7-d165-4301-a528-04130225abdd'},\n",
       "  'type': 'DeployEvent',\n",
       "  'unit': {'name': 'WORKER_2'}},\n",
       " {'playerId': {'playerId': 'f776a9c7-d165-4301-a528-04130225abdd'},\n",
       "  'power': 1,\n",
       "  'type': 'PowerEvent'},\n",
       " {'combatCard': {'value': 2},\n",
       "  'playerId': {'playerId': 'f776a9c7-d165-4301-a528-04130225abdd'},\n",
       "  'type': 'GainCombatCardEvent'},\n",
       " {'combatCard': {'value': 2},\n",
       "  'playerId': {'playerId': 'f776a9c7-d165-4301-a528-04130225abdd'},\n",
       "  'type': 'GainCombatCardEvent'},\n",
       " {'combatCard': {'value': 2},\n",
       "  'playerId': {'playerId': 'f776a9c7-d165-4301-a528-04130225abdd'},\n",
       "  'type': 'GainCombatCardEvent'},\n",
       " {'combatCard': {'value': 2},\n",
       "  'playerId': {'playerId': 'f776a9c7-d165-4301-a528-04130225abdd'},\n",
       "  'type': 'GainCombatCardEvent'},\n",
       " {'playerId': {'playerId': 'f776a9c7-d165-4301-a528-04130225abdd'},\n",
       "  'popularity': 3,\n",
       "  'type': 'PopularityEvent'},\n",
       " {'coins': 6,\n",
       "  'playerId': {'playerId': 'f776a9c7-d165-4301-a528-04130225abdd'},\n",
       "  'type': 'CoinEvent'},\n",
       " {'action': 'BOLSTER',\n",
       "  'playerId': {'playerId': 'f776a9c7-d165-4301-a528-04130225abdd'},\n",
       "  'type': 'ActionEvent'},\n",
       " {'combatCard': {'value': 2},\n",
       "  'playerId': {'playerId': 'f776a9c7-d165-4301-a528-04130225abdd'},\n",
       "  'type': 'GainCombatCardEvent'},\n",
       " {'coins': -1,\n",
       "  'playerId': {'playerId': 'f776a9c7-d165-4301-a528-04130225abdd'},\n",
       "  'type': 'CoinEvent'},\n",
       " {'playerId': {'playerId': 'f776a9c7-d165-4301-a528-04130225abdd'},\n",
       "  'type': 'PassEvent'}]"
      ]
     },
     "execution_count": 6,
     "metadata": {},
     "output_type": "execute_result"
    }
   ],
   "source": [
    "s.replace('\\\\n', '\\')"
   ]
  }
 ],
 "metadata": {
  "kernelspec": {
   "display_name": "Python 3",
   "language": "python",
   "name": "python3"
  },
  "language_info": {
   "codemirror_mode": {
    "name": "ipython",
    "version": 3
   },
   "file_extension": ".py",
   "mimetype": "text/x-python",
   "name": "python",
   "nbconvert_exporter": "python",
   "pygments_lexer": "ipython3",
   "version": "3.5.2"
  }
 },
 "nbformat": 4,
 "nbformat_minor": 2
}

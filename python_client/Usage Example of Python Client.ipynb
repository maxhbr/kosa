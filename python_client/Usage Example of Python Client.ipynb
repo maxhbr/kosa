{
 "cells": [
  {
   "cell_type": "markdown",
   "metadata": {},
   "source": [
    "# Kosa Python Client\n",
    "\n",
    "First one creates a python client. The UUID of the player is stored in `player_id`. If one creates a second client, one obtains a new player id."
   ]
  },
  {
   "cell_type": "code",
   "execution_count": 1,
   "metadata": {},
   "outputs": [
    {
     "name": "stdout",
     "output_type": "stream",
     "text": [
      "The first player has uuid 74347eb6-bd5e-48f5-8d9d-ec4186c05803\n"
     ]
    }
   ],
   "source": [
    "from kosa import Client\n",
    "client = Client()\n",
    "# second_client = Client()\n",
    "print('The first player has uuid {}'.format(client.player_id))\n",
    "# print('The second player has uuid {}'.format(second_client.player_id))"
   ]
  },
  {
   "cell_type": "markdown",
   "metadata": {},
   "source": [
    "## Joining a game\n",
    "\n",
    "The function `join_a_game` allows the player to join a game. The function `get_waiting_games` returns the list of waiting games. The logic behind `join_a_game` is to join a game if one is waiting, otherwise create a new one."
   ]
  },
  {
   "cell_type": "code",
   "execution_count": 2,
   "metadata": {},
   "outputs": [
    {
     "name": "stdout",
     "output_type": "stream",
     "text": [
      "Waiting games  [['8788b3fd-0541-4dfa-8e0d-c41047208a00', [{'playerMat': {'actionMap': {}, 'bottomActionBaseCost': {}, 'setupEvents': [{'popularity': 3, 'playerId': {'playerId': 'd9171e5f-2994-4874-bcbb-cccf83f3dc80'}}, {'playerId': {'playerId': 'd9171e5f-2994-4874-bcbb-cccf83f3dc80'}, 'coins': 6}], 'bottomActionReward': {}, 'startPosition': 6, 'topActionBaseCost': {}}, 'setupEvents': [{'unit': {'name': 'CHARACTER'}, 'destination': {'type': 'HOMEBASE', 'name': 'red'}, 'playerId': {'playerId': 'd9171e5f-2994-4874-bcbb-cccf83f3dc80'}}, {'unit': {'name': 'WORKER_1'}, 'destination': {'type': 'VILLAGE', 'name': 'v3'}, 'playerId': {'playerId': 'd9171e5f-2994-4874-bcbb-cccf83f3dc80'}}, {'unit': {'name': 'WORKER_2'}, 'destination': {'type': 'MOUNTAIN', 'name': 'm5'}, 'playerId': {'playerId': 'd9171e5f-2994-4874-bcbb-cccf83f3dc80'}}, {'playerId': {'playerId': 'd9171e5f-2994-4874-bcbb-cccf83f3dc80'}, 'power': 3}, {'combatCard': {'value': 2}, 'playerId': {'playerId': 'd9171e5f-2994-4874-bcbb-cccf83f3dc80'}}, {'combatCard': {'value': 2}, 'playerId': {'playerId': 'd9171e5f-2994-4874-bcbb-cccf83f3dc80'}}], 'playerId': {'playerId': 'd9171e5f-2994-4874-bcbb-cccf83f3dc80'}, 'faction': 'RED'}]]]\n",
      "Waiting games  [['8788b3fd-0541-4dfa-8e0d-c41047208a00', [{'playerMat': {'actionMap': {}, 'bottomActionBaseCost': {}, 'setupEvents': [{'popularity': 3, 'playerId': {'playerId': 'd9171e5f-2994-4874-bcbb-cccf83f3dc80'}}, {'playerId': {'playerId': 'd9171e5f-2994-4874-bcbb-cccf83f3dc80'}, 'coins': 6}], 'bottomActionReward': {}, 'startPosition': 6, 'topActionBaseCost': {}}, 'setupEvents': [{'unit': {'name': 'CHARACTER'}, 'destination': {'type': 'HOMEBASE', 'name': 'red'}, 'playerId': {'playerId': 'd9171e5f-2994-4874-bcbb-cccf83f3dc80'}}, {'unit': {'name': 'WORKER_1'}, 'destination': {'type': 'VILLAGE', 'name': 'v3'}, 'playerId': {'playerId': 'd9171e5f-2994-4874-bcbb-cccf83f3dc80'}}, {'unit': {'name': 'WORKER_2'}, 'destination': {'type': 'MOUNTAIN', 'name': 'm5'}, 'playerId': {'playerId': 'd9171e5f-2994-4874-bcbb-cccf83f3dc80'}}, {'playerId': {'playerId': 'd9171e5f-2994-4874-bcbb-cccf83f3dc80'}, 'power': 3}, {'combatCard': {'value': 2}, 'playerId': {'playerId': 'd9171e5f-2994-4874-bcbb-cccf83f3dc80'}}, {'combatCard': {'value': 2}, 'playerId': {'playerId': 'd9171e5f-2994-4874-bcbb-cccf83f3dc80'}}], 'playerId': {'playerId': 'd9171e5f-2994-4874-bcbb-cccf83f3dc80'}, 'faction': 'RED'}]]]\n"
     ]
    }
   ],
   "source": [
    "print('Waiting games ', client.get_waiting_games())\n",
    "client.join_a_game()\n",
    "print('Waiting games ', client.get_waiting_games())"
   ]
  }
 ],
 "metadata": {
  "kernelspec": {
   "display_name": "Python 3",
   "language": "python",
   "name": "python3"
  },
  "language_info": {
   "codemirror_mode": {
    "name": "ipython",
    "version": 3
   },
   "file_extension": ".py",
   "mimetype": "text/x-python",
   "name": "python",
   "nbconvert_exporter": "python",
   "pygments_lexer": "ipython3",
   "version": "3.5.2"
  }
 },
 "nbformat": 4,
 "nbformat_minor": 2
}

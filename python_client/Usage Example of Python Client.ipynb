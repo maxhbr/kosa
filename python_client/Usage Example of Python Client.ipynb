{
 "cells": [
  {
   "cell_type": "markdown",
   "metadata": {},
   "source": [
    "# Kosa Python Client\n",
    "\n",
    "First one creates a python client. The UUID of the player is stored in `player_id`. If one creates a second client, one obtains a new player id."
   ]
  },
  {
   "cell_type": "code",
   "execution_count": 2,
   "metadata": {},
   "outputs": [
    {
     "name": "stdout",
     "output_type": "stream",
     "text": [
      "player_id  6e0f9423-685f-4f6c-a0e1-ee0b285bcf73\n",
      "player_id  edc01eae-5303-43cf-99b0-8b0d276e1cef\n",
      "The first player has uuid 6e0f9423-685f-4f6c-a0e1-ee0b285bcf73\n",
      "The second player has uuid edc01eae-5303-43cf-99b0-8b0d276e1cef\n"
     ]
    }
   ],
   "source": [
    "from kosa import Client\n",
    "client = Client(host='localhost', port=3000)\n",
    "second_client = Client()\n",
    "print('The first player has uuid {}'.format(client.player_id))\n",
    "print('The second player has uuid {}'.format(second_client.player_id))"
   ]
  },
  {
   "cell_type": "markdown",
   "metadata": {},
   "source": [
    "## Joining and starting a game a game\n",
    "\n",
    "The function `join_a_game` allows the player to join a game. The function `get_waiting_games` returns the list of \n",
    "waiting games. The logic behind `join_a_game` is to join a game if one is waiting, otherwise create a new one.\n",
    "\n",
    "The game can then be started with `start`"
   ]
  },
  {
   "cell_type": "code",
   "execution_count": 3,
   "metadata": {},
   "outputs": [
    {
     "name": "stdout",
     "output_type": "stream",
     "text": [
      "Waiting games  []\n",
      "joined game with id  1bfd07de-0d0a-439d-8411-c55ee84a2466\n",
      "join OK\n",
      "Waiting games  [['1bfd07de-0d0a-439d-8411-c55ee84a2466', [{'playerId': '6e0f9423-685f-4f6c-a0e1-ee0b285bcf73', 'playerMat': {'bottomActionBaseCost': {}, 'startPosition': 6, 'bottomActionReward': {}, 'name': 'mechanical', 'topActionBaseCost': {}, 'actionMap': {}, 'setupEvents': [{'playerId': '6e0f9423-685f-4f6c-a0e1-ee0b285bcf73', 'popularity': 3, 'type': '', 'id': ''}, {'playerId': '6e0f9423-685f-4f6c-a0e1-ee0b285bcf73', 'type': '', 'id': '', 'coins': 6}]}, 'faction': 'YELLOW', 'setupEvents': [{'playerId': '6e0f9423-685f-4f6c-a0e1-ee0b285bcf73', 'unit': {'name': 'CHARACTER'}, 'type': '', 'id': '', 'destination': {'name': 'yellow', 'type': 'HOMEBASE'}}, {'playerId': '6e0f9423-685f-4f6c-a0e1-ee0b285bcf73', 'unit': {'name': 'WORKER_1'}, 'type': '', 'id': '', 'destination': {'name': 'f6', 'type': 'FARM'}}, {'playerId': '6e0f9423-685f-4f6c-a0e1-ee0b285bcf73', 'unit': {'name': 'WORKER_2'}, 'type': '', 'id': '', 'destination': {'name': 'v9', 'type': 'VILLAGE'}}, {'playerId': '6e0f9423-685f-4f6c-a0e1-ee0b285bcf73', 'power': 5, 'type': '', 'id': ''}]}]]]\n",
      "start OK\n"
     ]
    }
   ],
   "source": [
    "print('Waiting games ', client.get_waiting_games())\n",
    "client.join_a_game()\n",
    "print('Waiting games ', client.get_waiting_games())\n",
    "client.start()"
   ]
  },
  {
   "cell_type": "markdown",
   "metadata": {},
   "source": [
    "## Performing actions\n",
    "\n",
    "The function `get_available_actions` allows one to retrieve the list of available actions.\n",
    "\n",
    "The function `get_available_options(action)` retrieves a list of possible options for the action.\n",
    "\n",
    "The action can then be performed with `perform_aciton`."
   ]
  },
  {
   "cell_type": "code",
   "execution_count": 4,
   "metadata": {},
   "outputs": [
    {
     "name": "stdout",
     "output_type": "stream",
     "text": [
      "Available actions  ['TRADE', 'BOLSTER', 'MOVE', 'PRODUCE']\n",
      "Available options  [{'type': 'BolsterPowerOption'}, {'type': 'BolsterCombatCardsOption'}]\n"
     ]
    }
   ],
   "source": [
    "print('Available actions ', client.get_available_actions())\n",
    "print('Available options ', client.get_available_options('BOLSTER'))\n",
    "\n",
    "client.perform_action('BOLSTER', 1)"
   ]
  },
  {
   "cell_type": "markdown",
   "metadata": {},
   "source": [
    "## Exporting the game\n",
    "\n",
    "The function `export` lets you export a game."
   ]
  },
  {
   "cell_type": "code",
   "execution_count": 5,
   "metadata": {},
   "outputs": [
    {
     "name": "stdout",
     "output_type": "stream",
     "text": [
      "joined game with id  0d6bd9c4-eb22-42a5-9498-9c5ad6035303\n",
      "join OK\n"
     ]
    },
    {
     "ename": "AttributeError",
     "evalue": "'Client' object has no attribute 'perform_command'",
     "output_type": "error",
     "traceback": [
      "\u001b[0;31m---------------------------------------------------------------------------\u001b[0m",
      "\u001b[0;31mAttributeError\u001b[0m                            Traceback (most recent call last)",
      "\u001b[0;32m<ipython-input-5-9523d03caa1d>\u001b[0m in \u001b[0;36m<module>\u001b[0;34m()\u001b[0m\n\u001b[1;32m      1\u001b[0m \u001b[0mgame\u001b[0m \u001b[0;34m=\u001b[0m \u001b[0mclient\u001b[0m\u001b[0;34m.\u001b[0m\u001b[0mexport_game\u001b[0m\u001b[0;34m(\u001b[0m\u001b[0;34m)\u001b[0m\u001b[0;34m\u001b[0m\u001b[0m\n\u001b[0;32m----> 2\u001b[0;31m \u001b[0msecond_client\u001b[0m\u001b[0;34m.\u001b[0m\u001b[0mimport_game\u001b[0m\u001b[0;34m(\u001b[0m\u001b[0mgame\u001b[0m\u001b[0;34m)\u001b[0m\u001b[0;34m\u001b[0m\u001b[0m\n\u001b[0m\u001b[1;32m      3\u001b[0m \u001b[0msecond_client\u001b[0m\u001b[0;34m.\u001b[0m\u001b[0mstart\u001b[0m\u001b[0;34m(\u001b[0m\u001b[0;34m)\u001b[0m\u001b[0;34m\u001b[0m\u001b[0m\n\u001b[1;32m      4\u001b[0m \u001b[0mprint\u001b[0m\u001b[0;34m(\u001b[0m\u001b[0mclient\u001b[0m\u001b[0;34m.\u001b[0m\u001b[0mget_stats\u001b[0m\u001b[0;34m(\u001b[0m\u001b[0;34m)\u001b[0m\u001b[0;34m)\u001b[0m\u001b[0;34m\u001b[0m\u001b[0m\n\u001b[1;32m      5\u001b[0m \u001b[0mprint\u001b[0m\u001b[0;34m(\u001b[0m\u001b[0msecond_client\u001b[0m\u001b[0;34m.\u001b[0m\u001b[0mget_stats\u001b[0m\u001b[0;34m(\u001b[0m\u001b[0;34m)\u001b[0m\u001b[0;34m)\u001b[0m\u001b[0;34m\u001b[0m\u001b[0m\n",
      "\u001b[0;32m~/tng/boardgame/tng_repo/kosa/python_client/kosa/client.py\u001b[0m in \u001b[0;36mimport_game\u001b[0;34m(self, game)\u001b[0m\n\u001b[1;32m     69\u001b[0m         \u001b[0;32mif\u001b[0m \u001b[0;32mnot\u001b[0m \u001b[0mself\u001b[0m\u001b[0;34m.\u001b[0m\u001b[0mgame_id\u001b[0m\u001b[0;34m:\u001b[0m\u001b[0;34m\u001b[0m\u001b[0m\n\u001b[1;32m     70\u001b[0m             \u001b[0mself\u001b[0m\u001b[0;34m.\u001b[0m\u001b[0mjoin_a_game\u001b[0m\u001b[0;34m(\u001b[0m\u001b[0;34m)\u001b[0m\u001b[0;34m\u001b[0m\u001b[0m\n\u001b[0;32m---> 71\u001b[0;31m         \u001b[0;32mreturn\u001b[0m \u001b[0mself\u001b[0m\u001b[0;34m.\u001b[0m\u001b[0mperform_command\u001b[0m\u001b[0;34m(\u001b[0m\u001b[0;34m'IMPORT {} {}'\u001b[0m\u001b[0;34m.\u001b[0m\u001b[0mformat\u001b[0m\u001b[0;34m(\u001b[0m\u001b[0mself\u001b[0m\u001b[0;34m.\u001b[0m\u001b[0mgame_id\u001b[0m\u001b[0;34m,\u001b[0m \u001b[0mjson\u001b[0m\u001b[0;34m.\u001b[0m\u001b[0mdumps\u001b[0m\u001b[0;34m(\u001b[0m\u001b[0mgame\u001b[0m\u001b[0;34m,\u001b[0m \u001b[0mseparators\u001b[0m\u001b[0;34m=\u001b[0m\u001b[0;34m(\u001b[0m\u001b[0;34m','\u001b[0m\u001b[0;34m,\u001b[0m \u001b[0;34m':'\u001b[0m\u001b[0;34m)\u001b[0m\u001b[0;34m)\u001b[0m\u001b[0;34m)\u001b[0m\u001b[0;34m)\u001b[0m\u001b[0;34m\u001b[0m\u001b[0m\n\u001b[0m",
      "\u001b[0;31mAttributeError\u001b[0m: 'Client' object has no attribute 'perform_command'"
     ]
    }
   ],
   "source": [
    "game = client.export_game()\n",
    "second_client.import_game(game)\n",
    "second_client.start()\n",
    "print(client.get_stats())\n",
    "print(second_client.get_stats())"
   ]
  }
 ],
 "metadata": {
  "kernelspec": {
   "display_name": "Python 3",
   "language": "python",
   "name": "python3"
  },
  "language_info": {
   "codemirror_mode": {
    "name": "ipython",
    "version": 3
   },
   "file_extension": ".py",
   "mimetype": "text/x-python",
   "name": "python",
   "nbconvert_exporter": "python",
   "pygments_lexer": "ipython3",
   "version": "3.5.2"
  }
 },
 "nbformat": 4,
 "nbformat_minor": 2
}

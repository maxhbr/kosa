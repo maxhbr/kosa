{
 "cells": [
  {
   "cell_type": "markdown",
   "metadata": {},
   "source": [
    "# Kosa Python Client\n",
    "\n",
    "First one creates a python client. The UUID of the player is stored in `player_id`. If one creates a second client, one obtains a new player id."
   ]
  },
  {
   "cell_type": "code",
   "execution_count": 9,
   "metadata": {},
   "outputs": [
    {
     "name": "stdout",
     "output_type": "stream",
     "text": [
      "The first player has uuid 8b2051e7-1816-4482-867c-b4647bb7ad3c\n",
      "The second player has uuid 8aaec8d6-c116-4cd2-9cb1-af838006c737\n"
     ]
    }
   ],
   "source": [
    "from kosa import Client\n",
    "client = Client()\n",
    "second_client = Client()\n",
    "print('The first player has uuid {}'.format(client.player_id))\n",
    "print('The second player has uuid {}'.format(second_client.player_id))"
   ]
  },
  {
   "cell_type": "markdown",
   "metadata": {},
   "source": [
    "## Joining and starting a game a game\n",
    "\n",
    "The function `join_a_game` allows the player to join a game. The function `get_waiting_games` returns the list of \n",
    "waiting games. The logic behind `join_a_game` is to join a game if one is waiting, otherwise create a new one.\n",
    "\n",
    "The game can then be started with `start`"
   ]
  },
  {
   "cell_type": "code",
   "execution_count": 10,
   "metadata": {},
   "outputs": [
    {
     "name": "stdout",
     "output_type": "stream",
     "text": [
      "Waiting games  []\n",
      "Waiting games  [['0e7d0941-7869-4955-9e7d-771b2154d152', [{'playerMat': {'startPosition': 6, 'bottomActionBaseCost': {}, 'bottomActionReward': {}, 'actionMap': {}, 'setupEvents': [{'playerId': {'playerId': '8b2051e7-1816-4482-867c-b4647bb7ad3c'}, 'popularity': 3}, {'playerId': {'playerId': '8b2051e7-1816-4482-867c-b4647bb7ad3c'}, 'coins': 6}], 'topActionBaseCost': {}}, 'playerId': {'playerId': '8b2051e7-1816-4482-867c-b4647bb7ad3c'}, 'faction': 'YELLOW', 'setupEvents': [{'playerId': {'playerId': '8b2051e7-1816-4482-867c-b4647bb7ad3c'}, 'unit': {'name': 'CHARACTER'}, 'destination': {'type': 'HOMEBASE', 'name': 'yellow'}}, {'playerId': {'playerId': '8b2051e7-1816-4482-867c-b4647bb7ad3c'}, 'unit': {'name': 'WORKER_1'}, 'destination': {'type': 'FARM', 'name': 'f6'}}, {'playerId': {'playerId': '8b2051e7-1816-4482-867c-b4647bb7ad3c'}, 'unit': {'name': 'WORKER_2'}, 'destination': {'type': 'VILLAGE', 'name': 'v9'}}, {'power': 5, 'playerId': {'playerId': '8b2051e7-1816-4482-867c-b4647bb7ad3c'}}]}]]]\n"
     ]
    }
   ],
   "source": [
    "print('Waiting games ', client.get_waiting_games())\n",
    "client.join_a_game()\n",
    "print('Waiting games ', client.get_waiting_games())\n",
    "client.start()"
   ]
  },
  {
   "cell_type": "code",
   "execution_count": 13,
   "metadata": {},
   "outputs": [
    {
     "name": "stdout",
     "output_type": "stream",
     "text": [
      "0\n",
      "1\n"
     ]
    },
    {
     "ename": "KeyboardInterrupt",
     "evalue": "",
     "output_type": "error",
     "traceback": [
      "\u001b[0;31m---------------------------------------------------------------------------\u001b[0m",
      "\u001b[0;31mKeyboardInterrupt\u001b[0m                         Traceback (most recent call last)",
      "\u001b[0;32m<ipython-input-13-043a0b8848e4>\u001b[0m in \u001b[0;36m<module>\u001b[0;34m()\u001b[0m\n\u001b[1;32m      3\u001b[0m     \u001b[0mprint\u001b[0m\u001b[0;34m(\u001b[0m\u001b[0mi\u001b[0m\u001b[0;34m)\u001b[0m\u001b[0;34m\u001b[0m\u001b[0m\n\u001b[1;32m      4\u001b[0m     \u001b[0mc\u001b[0m \u001b[0;34m=\u001b[0m \u001b[0mClient\u001b[0m\u001b[0;34m(\u001b[0m\u001b[0;34m)\u001b[0m\u001b[0;34m\u001b[0m\u001b[0m\n\u001b[0;32m----> 5\u001b[0;31m     \u001b[0mc\u001b[0m\u001b[0;34m.\u001b[0m\u001b[0mjoin_a_game\u001b[0m\u001b[0;34m(\u001b[0m\u001b[0;34m)\u001b[0m\u001b[0;34m\u001b[0m\u001b[0m\n\u001b[0m\u001b[1;32m      6\u001b[0m     \u001b[0mclients\u001b[0m\u001b[0;34m.\u001b[0m\u001b[0mappend\u001b[0m\u001b[0;34m(\u001b[0m\u001b[0mc\u001b[0m\u001b[0;34m)\u001b[0m\u001b[0;34m\u001b[0m\u001b[0m\n",
      "\u001b[0;32m~/tng/boardgame/kosa/python_client/kosa/client.py\u001b[0m in \u001b[0;36mjoin_a_game\u001b[0;34m(self, color, player_mat)\u001b[0m\n\u001b[1;32m     34\u001b[0m             \u001b[0mplayer_mat\u001b[0m \u001b[0;34m=\u001b[0m \u001b[0mrandom\u001b[0m\u001b[0;34m.\u001b[0m\u001b[0mchoice\u001b[0m\u001b[0;34m(\u001b[0m\u001b[0;34m[\u001b[0m\u001b[0;34m'engineering'\u001b[0m\u001b[0;34m,\u001b[0m \u001b[0;34m'agricultural'\u001b[0m\u001b[0;34m,\u001b[0m \u001b[0;34m'industrial'\u001b[0m\u001b[0;34m,\u001b[0m \u001b[0;34m'mechanical'\u001b[0m\u001b[0;34m,\u001b[0m \u001b[0;34m'patriotic'\u001b[0m\u001b[0;34m,\u001b[0m \u001b[0;34m'innovative'\u001b[0m\u001b[0;34m,\u001b[0m \u001b[0;34m'militant'\u001b[0m\u001b[0;34m]\u001b[0m\u001b[0;34m)\u001b[0m\u001b[0;34m\u001b[0m\u001b[0m\n\u001b[1;32m     35\u001b[0m \u001b[0;34m\u001b[0m\u001b[0m\n\u001b[0;32m---> 36\u001b[0;31m         \u001b[0;32mwhile\u001b[0m \u001b[0mlen\u001b[0m\u001b[0;34m(\u001b[0m\u001b[0mre\u001b[0m\u001b[0;34m.\u001b[0m\u001b[0mcompile\u001b[0m\u001b[0;34m(\u001b[0m\u001b[0;34m'joined'\u001b[0m\u001b[0;34m)\u001b[0m\u001b[0;34m.\u001b[0m\u001b[0mfindall\u001b[0m\u001b[0;34m(\u001b[0m\u001b[0mself\u001b[0m\u001b[0;34m.\u001b[0m\u001b[0mperform_command\u001b[0m\u001b[0;34m(\u001b[0m\u001b[0;34m'JOIN {} {} {}'\u001b[0m\u001b[0;34m.\u001b[0m\u001b[0mformat\u001b[0m\u001b[0;34m(\u001b[0m\u001b[0mself\u001b[0m\u001b[0;34m.\u001b[0m\u001b[0mgame_id\u001b[0m\u001b[0;34m,\u001b[0m \u001b[0mcolor\u001b[0m\u001b[0;34m,\u001b[0m \u001b[0mplayer_mat\u001b[0m\u001b[0;34m)\u001b[0m\u001b[0;34m)\u001b[0m\u001b[0;34m)\u001b[0m\u001b[0;34m)\u001b[0m \u001b[0;34m==\u001b[0m \u001b[0;36m0\u001b[0m\u001b[0;34m:\u001b[0m\u001b[0;34m\u001b[0m\u001b[0m\n\u001b[0m\u001b[1;32m     37\u001b[0m             \u001b[0;32mpass\u001b[0m\u001b[0;34m\u001b[0m\u001b[0m\n\u001b[1;32m     38\u001b[0m \u001b[0;34m\u001b[0m\u001b[0m\n",
      "\u001b[0;32m~/tng/boardgame/kosa/python_client/kosa/base_client.py\u001b[0m in \u001b[0;36mperform_command\u001b[0;34m(self, command, expect_output)\u001b[0m\n\u001b[1;32m     28\u001b[0m             \u001b[0;32mpass\u001b[0m\u001b[0;34m\u001b[0m\u001b[0m\n\u001b[1;32m     29\u001b[0m         \u001b[0mself\u001b[0m\u001b[0;34m.\u001b[0m\u001b[0msocket\u001b[0m\u001b[0;34m.\u001b[0m\u001b[0msend\u001b[0m\u001b[0;34m(\u001b[0m\u001b[0mcommand\u001b[0m\u001b[0;34m.\u001b[0m\u001b[0mencode\u001b[0m\u001b[0;34m(\u001b[0m\u001b[0;34m'UTF-8'\u001b[0m\u001b[0;34m)\u001b[0m\u001b[0;34m)\u001b[0m\u001b[0;34m\u001b[0m\u001b[0m\n\u001b[0;32m---> 30\u001b[0;31m         \u001b[0mtime\u001b[0m\u001b[0;34m.\u001b[0m\u001b[0msleep\u001b[0m\u001b[0;34m(\u001b[0m\u001b[0;36m0.05\u001b[0m\u001b[0;34m)\u001b[0m\u001b[0;34m\u001b[0m\u001b[0m\n\u001b[0m\u001b[1;32m     31\u001b[0m         \u001b[0;32mif\u001b[0m \u001b[0mexpect_output\u001b[0m\u001b[0;34m:\u001b[0m\u001b[0;34m\u001b[0m\u001b[0m\n\u001b[1;32m     32\u001b[0m             \u001b[0;32mreturn\u001b[0m \u001b[0mself\u001b[0m\u001b[0;34m.\u001b[0m\u001b[0mget_message\u001b[0m\u001b[0;34m(\u001b[0m\u001b[0;34m)\u001b[0m\u001b[0;34m\u001b[0m\u001b[0m\n",
      "\u001b[0;31mKeyboardInterrupt\u001b[0m: "
     ]
    }
   ],
   "source": [
    "clients = []\n",
    "for i in range(3):\n",
    "    print(i)\n",
    "    c = Client()\n",
    "    c.join_a_game()\n",
    "    clients.append(c)"
   ]
  },
  {
   "cell_type": "markdown",
   "metadata": {},
   "source": [
    "## Performing actions\n",
    "\n",
    "The function `get_available_actions` allows one to retrieve the list of available actions.\n",
    "\n",
    "The function `get_available_options(action)` retrieves a list of possible options for the action.\n",
    "\n",
    "The action can then be performed with `perform_aciton`."
   ]
  },
  {
   "cell_type": "code",
   "execution_count": 3,
   "metadata": {},
   "outputs": [
    {
     "name": "stdout",
     "output_type": "stream",
     "text": [
      "Available actions  ['TRADE', 'BOLSTER', 'MOVE', 'PRODUCE']\n",
      "Available options  ['{\"type\":\"BolsterPowerOption\"}', '{\"type\":\"BolsterCombatCardsOption\"}']\n"
     ]
    }
   ],
   "source": [
    "print('Available actions ', client.get_available_actions())\n",
    "print('Available options ', client.get_available_options('BOLSTER'))\n",
    "\n",
    "client.perform_action('BOLSTER', 1)"
   ]
  },
  {
   "cell_type": "markdown",
   "metadata": {},
   "source": [
    "## Exporting the game\n",
    "\n",
    "The function `export` lets you export a game."
   ]
  },
  {
   "cell_type": "code",
   "execution_count": 4,
   "metadata": {},
   "outputs": [
    {
     "data": {
      "text/plain": [
       "'\\n\\x1b[33;01m\\n\\x1b[33;01m7f99afd2-add0-48a4-b32a-4556ef524468 imported 65a4eee4-bfb5-4708-854b-92ea21d8ff4c\\x1b[0m\\n\\x1b[0m\\n'"
      ]
     },
     "execution_count": 4,
     "metadata": {},
     "output_type": "execute_result"
    }
   ],
   "source": [
    "game = client.export_game()\n",
    "second_client.import_game(game)"
   ]
  }
 ],
 "metadata": {
  "kernelspec": {
   "display_name": "Python 3",
   "language": "python",
   "name": "python3"
  },
  "language_info": {
   "codemirror_mode": {
    "name": "ipython",
    "version": 3
   },
   "file_extension": ".py",
   "mimetype": "text/x-python",
   "name": "python",
   "nbconvert_exporter": "python",
   "pygments_lexer": "ipython3",
   "version": "3.5.2"
  }
 },
 "nbformat": 4,
 "nbformat_minor": 2
}

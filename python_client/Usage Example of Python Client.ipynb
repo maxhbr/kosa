{
 "cells": [
  {
   "cell_type": "markdown",
   "metadata": {},
   "source": [
    "# Kosa Python Client\n",
    "\n",
    "First one creates a python client. The UUID of the player is stored in `player_id`. If one creates a second client, one obtains a new player id."
   ]
  },
  {
   "cell_type": "code",
   "execution_count": 1,
   "metadata": {},
   "outputs": [
    {
     "name": "stdout",
     "output_type": "stream",
     "text": [
      "The first player has uuid 234c92dc-f2ea-4a04-a457-ff6904e79758\n",
      "The second player has uuid a9397094-1c32-46e2-a855-57f4a80a7699\n"
     ]
    }
   ],
   "source": [
    "from kosa import Client\n",
    "client = Client()\n",
    "second_client = Client()\n",
    "print('The first player has uuid {}'.format(client.player_id))\n",
    "print('The second player has uuid {}'.format(second_client.player_id))"
   ]
  },
  {
   "cell_type": "markdown",
   "metadata": {},
   "source": [
    "## Joining a game\n",
    "\n",
    "The function `join_a_game` allows the player to join a game. The function `get_waiting_games` returns the list of waiting games. The logic behind `join_a_game` is to join a game if one is waiting, otherwise create a new one."
   ]
  },
  {
   "cell_type": "code",
   "execution_count": 2,
   "metadata": {},
   "outputs": [
    {
     "name": "stdout",
     "output_type": "stream",
     "text": [
      "Waiting games  []\n",
      "Waiting games  [['303338f7-f4f5-4bef-98f1-0ccd9c9936ab', [{'setupEvents': [{'unit': {'name': 'CHARACTER'}, 'destination': {'name': 'green', 'type': 'HOMEBASE'}, 'playerId': {'playerId': '234c92dc-f2ea-4a04-a457-ff6904e79758'}}, {'unit': {'name': 'WORKER_1'}, 'destination': {'name': 'm1', 'type': 'MOUNTAIN'}, 'playerId': {'playerId': '234c92dc-f2ea-4a04-a457-ff6904e79758'}}, {'unit': {'name': 'WORKER_2'}, 'destination': {'name': 'f1', 'type': 'FARM'}, 'playerId': {'playerId': '234c92dc-f2ea-4a04-a457-ff6904e79758'}}, {'power': 3, 'playerId': {'playerId': '234c92dc-f2ea-4a04-a457-ff6904e79758'}}], 'faction': 'GREEN', 'playerMat': {'setupEvents': [{'popularity': 3, 'playerId': {'playerId': '234c92dc-f2ea-4a04-a457-ff6904e79758'}}, {'coins': 6, 'playerId': {'playerId': '234c92dc-f2ea-4a04-a457-ff6904e79758'}}], 'bottomActionBaseCost': {}, 'topActionBaseCost': {}, 'startPosition': 6, 'actionMap': {}, 'bottomActionReward': {}}, 'playerId': {'playerId': '234c92dc-f2ea-4a04-a457-ff6904e79758'}}]]]\n"
     ]
    }
   ],
   "source": [
    "print('Waiting games ', client.get_waiting_games())\n",
    "client.join_a_game()\n",
    "print('Waiting games ', client.get_waiting_games())"
   ]
  },
  {
   "cell_type": "code",
   "execution_count": 3,
   "metadata": {},
   "outputs": [
    {
     "name": "stdout",
     "output_type": "stream",
     "text": [
      "\n",
      "\u001b[33;01m234c92dc-f2ea-4a04-a457-ff6904e79758 started game 303338f7-f4f5-4bef-98f1-0ccd9c9936ab ...\n",
      "\u001b[0m\n",
      "\n"
     ]
    }
   ],
   "source": [
    "client.start()"
   ]
  },
  {
   "cell_type": "code",
   "execution_count": 4,
   "metadata": {},
   "outputs": [
    {
     "data": {
      "text/plain": [
       "[]"
      ]
     },
     "execution_count": 4,
     "metadata": {},
     "output_type": "execute_result"
    }
   ],
   "source": [
    "client.get_waiting_games()"
   ]
  }
 ],
 "metadata": {
  "kernelspec": {
   "display_name": "Python 3",
   "language": "python",
   "name": "python3"
  },
  "language_info": {
   "codemirror_mode": {
    "name": "ipython",
    "version": 3
   },
   "file_extension": ".py",
   "mimetype": "text/x-python",
   "name": "python",
   "nbconvert_exporter": "python",
   "pygments_lexer": "ipython3",
   "version": "3.5.2"
  }
 },
 "nbformat": 4,
 "nbformat_minor": 2
}

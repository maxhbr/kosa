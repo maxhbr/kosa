{
 "cells": [
  {
   "cell_type": "markdown",
   "metadata": {},
   "source": [
    "# Kosa Python Client\n",
    "\n",
    "First one creates a python client. The UUID of the player is stored in `player_id`. If one creates a second client, one obtains a new player id."
   ]
  },
  {
   "cell_type": "code",
   "execution_count": 1,
   "metadata": {},
   "outputs": [
    {
     "name": "stdout",
     "output_type": "stream",
     "text": [
      "player_id  a824113a-b641-4192-b6da-e962655e6af0\n",
      "player_id  a44f5819-83bd-4507-8310-af30a784aaa5\n",
      "The first player has uuid a824113a-b641-4192-b6da-e962655e6af0\n",
      "The second player has uuid a44f5819-83bd-4507-8310-af30a784aaa5\n"
     ]
    }
   ],
   "source": [
    "from kosa import Client\n",
    "client = Client(host='localhost', port=3000)\n",
    "second_client = Client()\n",
    "print('The first player has uuid {}'.format(client.player_id))\n",
    "print('The second player has uuid {}'.format(second_client.player_id))"
   ]
  },
  {
   "cell_type": "markdown",
   "metadata": {},
   "source": [
    "## Joining and starting a game a game\n",
    "\n",
    "The function `join_a_game` allows the player to join a game. The function `get_waiting_games` returns the list of \n",
    "waiting games. The logic behind `join_a_game` is to join a game if one is waiting, otherwise create a new one.\n",
    "\n",
    "The game can then be started with `start`"
   ]
  },
  {
   "cell_type": "code",
   "execution_count": 2,
   "metadata": {},
   "outputs": [
    {
     "name": "stdout",
     "output_type": "stream",
     "text": [
      "Waiting games  []\n",
      "joined game with id  a39c71e4-eb1d-49bd-89b3-6d9c79341548\n",
      "join OK\n",
      "Waiting games  [['a39c71e4-eb1d-49bd-89b3-6d9c79341548', [{'playerMat': {'name': 'agricultural', 'actionMap': {}, 'bottomActionBaseCost': {}, 'bottomActionReward': {}, 'startPosition': 7, 'topActionBaseCost': {}, 'setupEvents': [{'popularity': 4, 'id': '', 'type': '', 'playerId': 'a824113a-b641-4192-b6da-e962655e6af0'}, {'id': '', 'type': '', 'coins': 7, 'playerId': 'a824113a-b641-4192-b6da-e962655e6af0'}]}, 'setupEvents': [{'destination': {'name': 'purple', 'type': 'HOMEBASE'}, 'id': '', 'type': '', 'unit': {'name': 'CHARACTER'}, 'playerId': 'a824113a-b641-4192-b6da-e962655e6af0'}, {'destination': {'name': 't7', 'type': 'TUNDRA'}, 'id': '', 'type': '', 'unit': {'name': 'WORKER_1'}, 'playerId': 'a824113a-b641-4192-b6da-e962655e6af0'}, {'destination': {'name': 'f7', 'type': 'FARM'}, 'id': '', 'type': '', 'unit': {'name': 'WORKER_2'}, 'playerId': 'a824113a-b641-4192-b6da-e962655e6af0'}, {'id': '', 'type': '', 'combatCard': {'value': 2}, 'playerId': 'a824113a-b641-4192-b6da-e962655e6af0'}, {'id': '', 'type': '', 'combatCard': {'value': 2}, 'playerId': 'a824113a-b641-4192-b6da-e962655e6af0'}], 'faction': 'PURPLE', 'playerId': 'a824113a-b641-4192-b6da-e962655e6af0'}]]]\n",
      "start OK\n"
     ]
    }
   ],
   "source": [
    "print('Waiting games ', client.get_waiting_games())\n",
    "client.join_a_game()\n",
    "print('Waiting games ', client.get_waiting_games())\n",
    "client.start()"
   ]
  },
  {
   "cell_type": "markdown",
   "metadata": {},
   "source": [
    "## Performing actions\n",
    "\n",
    "The function `get_available_actions` allows one to retrieve the list of available actions.\n",
    "\n",
    "The function `get_available_options(action)` retrieves a list of possible options for the action.\n",
    "\n",
    "The action can then be performed with `perform_aciton`."
   ]
  },
  {
   "cell_type": "code",
   "execution_count": 3,
   "metadata": {},
   "outputs": [
    {
     "name": "stdout",
     "output_type": "stream",
     "text": [
      "Available actions  ['TRADE', 'BOLSTER', 'MOVE', 'PRODUCE']\n",
      "Available options  [{'type': 'BolsterPowerOption'}, {'type': 'BolsterCombatCardsOption'}]\n"
     ]
    }
   ],
   "source": [
    "print('Available actions ', client.get_available_actions())\n",
    "print('Available options ', client.get_available_options('BOLSTER'))\n",
    "\n",
    "client.perform_action('BOLSTER', 1)"
   ]
  },
  {
   "cell_type": "markdown",
   "metadata": {},
   "source": [
    "## Exporting the game\n",
    "\n",
    "The function `export` lets you export a game."
   ]
  },
  {
   "cell_type": "code",
   "execution_count": 4,
   "metadata": {},
   "outputs": [
    {
     "name": "stdout",
     "output_type": "stream",
     "text": [
      "joined game with id  bc5943b8-a1e2-433f-8194-119631038321\n",
      "join OK\n",
      "start OK\n",
      "{'resources': [], 'players': [{'popularity': 4, 'playerMat': 'agricultural', 'faction': 'PURPLE', 'playerId': 'a824113a-b641-4192-b6da-e962655e6af0', 'power': 0, 'score': 10, 'combatCards': 3, 'stars': 0, 'coins': 6, 'units': [[{'name': 'CHARACTER'}, {'name': 'purple', 'type': 'HOMEBASE'}], [{'name': 'WORKER_1'}, {'name': 't7', 'type': 'TUNDRA'}], [{'name': 'WORKER_2'}, {'name': 'f7', 'type': 'FARM'}]]}]}\n",
      "{'resources': [], 'players': [{'popularity': 3, 'playerMat': 'mechanical', 'faction': 'BLACK', 'playerId': 'a44f5819-83bd-4507-8310-af30a784aaa5', 'power': 1, 'score': 10, 'combatCards': 4, 'stars': 0, 'coins': 6, 'units': [[{'name': 'CHARACTER'}, {'name': 'black', 'type': 'HOMEBASE'}], [{'name': 'WORKER_1'}, {'name': 'm6', 'type': 'MOUNTAIN'}], [{'name': 'WORKER_2'}, {'name': 't8', 'type': 'TUNDRA'}]]}]}\n"
     ]
    }
   ],
   "source": [
    "game = client.export_game()\n",
    "second_client.import_game(game)\n",
    "second_client.start()\n",
    "print(client.get_stats())\n",
    "print(second_client.get_stats())"
   ]
  }
 ],
 "metadata": {
  "kernelspec": {
   "display_name": "Python 3",
   "language": "python",
   "name": "python3"
  },
  "language_info": {
   "codemirror_mode": {
    "name": "ipython",
    "version": 3
   },
   "file_extension": ".py",
   "mimetype": "text/x-python",
   "name": "python",
   "nbconvert_exporter": "python",
   "pygments_lexer": "ipython3",
   "version": "3.5.2"
  }
 },
 "nbformat": 4,
 "nbformat_minor": 2
}

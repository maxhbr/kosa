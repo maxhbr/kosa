{
 "cells": [
  {
   "cell_type": "markdown",
   "metadata": {},
   "source": [
    "# Kosa Python Client\n",
    "\n",
    "First one creates a python client. The UUID of the player is stored in `player_id`. If one creates a second client, one obtains a new player id."
   ]
  },
  {
   "cell_type": "code",
   "execution_count": 1,
   "metadata": {},
   "outputs": [
    {
     "name": "stdout",
     "output_type": "stream",
     "text": [
      "localhost 1337\n",
      "localhost 1337\n",
      "The first player has uuid a3a0f588-fe08-415b-a1d8-4b16d217c079\n",
      "The second player has uuid 9f97d171-a598-4ed9-a66b-09fb573b8c9c\n"
     ]
    }
   ],
   "source": [
    "from kosa import Client\n",
    "client = Client()\n",
    "second_client = Client()\n",
    "print('The first player has uuid {}'.format(client.player_id))\n",
    "print('The second player has uuid {}'.format(second_client.player_id))"
   ]
  },
  {
   "cell_type": "markdown",
   "metadata": {},
   "source": [
    "## Joining a game\n",
    "\n",
    "The function `join_a_game` allows the player to join a game. The function `get_waiting_games` returns the list of waiting games. The logic behind `join_a_game` is to join a game if one is waiting, otherwise create a new one."
   ]
  },
  {
   "cell_type": "code",
   "execution_count": 2,
   "metadata": {},
   "outputs": [
    {
     "name": "stdout",
     "output_type": "stream",
     "text": [
      "Waiting games  []\n",
      "Waiting games  [['f12a45e3-ef31-4a88-9234-7df96b159e85', [{'playerMat': {'bottomActionBaseCost': {}, 'actionMap': {}, 'setupEvents': [{'popularity': 3, 'playerId': {'playerId': 'a3a0f588-fe08-415b-a1d8-4b16d217c079'}}, {'coins': 6, 'playerId': {'playerId': 'a3a0f588-fe08-415b-a1d8-4b16d217c079'}}], 'topActionBaseCost': {}, 'startPosition': 6, 'bottomActionReward': {}}, 'faction': 'YELLOW', 'playerId': {'playerId': 'a3a0f588-fe08-415b-a1d8-4b16d217c079'}, 'setupEvents': [{'playerId': {'playerId': 'a3a0f588-fe08-415b-a1d8-4b16d217c079'}, 'destination': {'type': 'HOMEBASE', 'name': 'yellow'}, 'unit': {'name': 'CHARACTER'}}, {'playerId': {'playerId': 'a3a0f588-fe08-415b-a1d8-4b16d217c079'}, 'destination': {'type': 'FARM', 'name': 'f6'}, 'unit': {'name': 'WORKER_1'}}, {'playerId': {'playerId': 'a3a0f588-fe08-415b-a1d8-4b16d217c079'}, 'destination': {'type': 'VILLAGE', 'name': 'v9'}, 'unit': {'name': 'WORKER_2'}}, {'playerId': {'playerId': 'a3a0f588-fe08-415b-a1d8-4b16d217c079'}, 'power': 5}]}]]]\n"
     ]
    }
   ],
   "source": [
    "print('Waiting games ', client.get_waiting_games())\n",
    "client.join_a_game()\n",
    "print('Waiting games ', client.get_waiting_games())"
   ]
  }
 ],
 "metadata": {
  "kernelspec": {
   "display_name": "Python 3",
   "language": "python",
   "name": "python3"
  },
  "language_info": {
   "codemirror_mode": {
    "name": "ipython",
    "version": 3
   },
   "file_extension": ".py",
   "mimetype": "text/x-python",
   "name": "python",
   "nbconvert_exporter": "python",
   "pygments_lexer": "ipython3",
   "version": "3.5.2"
  }
 },
 "nbformat": 4,
 "nbformat_minor": 2
}

{
 "cells": [
  {
   "cell_type": "markdown",
   "metadata": {},
   "source": [
    "# Single Player Game Demonstration\n",
    "\n",
    "First, we set up"
   ]
  },
  {
   "cell_type": "code",
   "execution_count": 1,
   "metadata": {},
   "outputs": [],
   "source": [
    "import re\n",
    "import random\n",
    "from kosa import Client\n",
    "client = Client()"
   ]
  },
  {
   "cell_type": "markdown",
   "metadata": {},
   "source": [
    "We join a game as the green player with industrial matrix."
   ]
  },
  {
   "cell_type": "code",
   "execution_count": 2,
   "metadata": {},
   "outputs": [
    {
     "name": "stdout",
     "output_type": "stream",
     "text": [
      "game id  f81f0658-82de-4229-ac48-ff465c09c21c\n"
     ]
    }
   ],
   "source": [
    "client.join_a_game(color='green', player_mat='INDUSTRIAL')\n",
    "client.start()\n",
    "print('game id ', client.game_id)"
   ]
  },
  {
   "cell_type": "markdown",
   "metadata": {},
   "source": [
    "We know performa mind blowing set of actions."
   ]
  },
  {
   "cell_type": "code",
   "execution_count": 3,
   "metadata": {},
   "outputs": [],
   "source": [
    "def perform_action_matching(action, regex):\n",
    "    available_actions = client.get_available_actions()\n",
    "    if action in available_actions:\n",
    "        option_list = client.get_available_options(action)\n",
    "        index_to_play = None\n",
    "        for idx, val in enumerate(option_list):\n",
    "            result = re.compile(regex).findall(val)\n",
    "            if len(result) > 0:\n",
    "                index_to_play = idx\n",
    "                break\n",
    "    \n",
    "        if index_to_play is not None:\n",
    "            client.perform_action(action, index_to_play)\n",
    "    \n",
    "for _ in range(16):\n",
    "    perform_action_matching('MOVE', 'GainCoin')\n",
    "    perform_action_matching('TRADE', 'Popularity')\n",
    "    perform_action_matching('MOVE', 'GainCoin')\n",
    "    perform_action_matching('BOLSTER', 'BolsterPower')\n",
    "    perform_action_matching('PRODUCE', 'm1')\n",
    "    \n",
    "perform_action_matching('MOVE', 'GainCoin')\n",
    "perform_action_matching('TRADE', 'TradePopularity')\n",
    "perform_action_matching('MOVE', 'GainCoin')\n",
    "perform_action_matching('TRADE', 'TradePopularity')"
   ]
  },
  {
   "cell_type": "markdown",
   "metadata": {},
   "source": [
    "We have now obtained 2 stars, which we can check as follows:"
   ]
  },
  {
   "cell_type": "code",
   "execution_count": 4,
   "metadata": {},
   "outputs": [
    {
     "name": "stdout",
     "output_type": "stream",
     "text": [
      "Stars:  ['MAX_POWER', 'MAX_POPULARITY']\n"
     ]
    }
   ],
   "source": [
    "def get_star_events():\n",
    "    game = client.export_game()\n",
    "    return [g for g in game if g['type'] == 'StarEvent']\n",
    "\n",
    "def print_stars():\n",
    "    print(\"Stars: \" , [s['star'] for s in get_star_events()])\n",
    "    \n",
    "print_stars()"
   ]
  },
  {
   "cell_type": "markdown",
   "metadata": {},
   "source": [
    "# Moving around\n",
    "The following performs some moves to place workers."
   ]
  },
  {
   "cell_type": "code",
   "execution_count": 5,
   "metadata": {},
   "outputs": [],
   "source": [
    "perform_action_matching('MOVE','WORKER_2.*v1.*VILLAGE')\n",
    "perform_action_matching('PRODUCE','VILLAGE')\n",
    "perform_action_matching('MOVE', 'GainCoin')\n",
    "perform_action_matching('PRODUCE','VILLAGE')"
   ]
  },
  {
   "cell_type": "code",
   "execution_count": 6,
   "metadata": {},
   "outputs": [],
   "source": [
    "perform_action_matching('MOVE', 'WORKER_1.*f1.*FARM')\n",
    "perform_action_matching('PRODUCE','VILLAGE')\n",
    "perform_action_matching('MOVE', 'WORKER_1.*t2.*TUNDRA')\n",
    "perform_action_matching('PRODUCE','VILLAGE')\n",
    "perform_action_matching('MOVE', 'WORKER_1.*m3.*MOUNTAIN')\n",
    "perform_action_matching('PRODUCE','VILLAGE')\n",
    "perform_action_matching('MOVE', 'WORKER_1.*w3.*FOREST')\n",
    "perform_action_matching('PRODUCE','VILLAGE')"
   ]
  },
  {
   "cell_type": "code",
   "execution_count": 7,
   "metadata": {},
   "outputs": [
    {
     "name": "stdout",
     "output_type": "stream",
     "text": [
      "Stars:  ['MAX_POWER', 'MAX_POPULARITY', 'ALL_WORKERS']\n"
     ]
    }
   ],
   "source": [
    "print_stars()"
   ]
  },
  {
   "cell_type": "code",
   "execution_count": 8,
   "metadata": {},
   "outputs": [],
   "source": [
    "perform_action_matching('MOVE', 'WORKER_7.*f1.*FARM')\n",
    "perform_action_matching('PRODUCE','TUNDRA')\n",
    "perform_action_matching('MOVE', 'WORKER_7.*t2.*TUNDRA')\n",
    "perform_action_matching('PRODUCE','TUNDRA')\n",
    "perform_action_matching('MOVE', 'WORKER_7.*m3.*MOUNYAIN')\n",
    "perform_action_matching('PRODUCE','MOUNTAIN')\n",
    "perform_action_matching('MOVE', 'WORKER_7.*v5.*VILLAGE')\n",
    "perform_action_matching('PRODUCE','MOUNTAIN')"
   ]
  },
  {
   "cell_type": "code",
   "execution_count": 9,
   "metadata": {},
   "outputs": [],
   "source": [
    "perform_action_matching('MOVE', 'WORKER_4.*f1.*FARM')\n",
    "perform_action_matching('PRODUCE','FOREST')\n",
    "perform_action_matching('MOVE', 'WORKER_4.*m1.*MOUNTAIN')\n",
    "perform_action_matching('PRODUCE','MOUNTAIN')"
   ]
  },
  {
   "cell_type": "code",
   "execution_count": 10,
   "metadata": {},
   "outputs": [],
   "source": [
    "perform_action_matching('MOVE', 'WORKER_3.*f1.*FARM')\n",
    "perform_action_matching('PRODUCE','FOREST')\n",
    "perform_action_matching('MOVE', 'WORKER_3.*t2.*TUNDRA')\n",
    "perform_action_matching('PRODUCE','FOREST')"
   ]
  },
  {
   "cell_type": "code",
   "execution_count": 11,
   "metadata": {},
   "outputs": [],
   "source": [
    "perform_action_matching('MOVE', 'WORKER_8.*f1.*FARM')\n",
    "perform_action_matching('PRODUCE','FOREST')\n",
    "perform_action_matching('MOVE', 'WORKER_8.*t2.*TUNDRA')\n",
    "perform_action_matching('PRODUCE','TUNDRA')\n",
    "perform_action_matching('MOVE', 'WORKER_8.*m3.*MOUNTAIN')\n",
    "perform_action_matching('PRODUCE','TUNDRA')"
   ]
  },
  {
   "cell_type": "markdown",
   "metadata": {},
   "source": [
    "# Perform secondary action to gain more stars\n",
    "\n",
    "Currently the game finished event is not captured correctly. So, we get an exception. One can see the game finishing, by watching `nc localhost 1337`."
   ]
  },
  {
   "cell_type": "code",
   "execution_count": 12,
   "metadata": {},
   "outputs": [
    {
     "name": "stdout",
     "output_type": "stream",
     "text": [
      "Stars:  ['MAX_POWER', 'MAX_POPULARITY', 'ALL_WORKERS']\n",
      "Stars:  ['MAX_POWER', 'MAX_POPULARITY', 'ALL_WORKERS']\n",
      "Stars:  ['MAX_POWER', 'MAX_POPULARITY', 'ALL_WORKERS']\n",
      "Stars:  ['MAX_POWER', 'MAX_POPULARITY', 'ALL_WORKERS']\n",
      "Stars:  ['MAX_POWER', 'MAX_POPULARITY', 'ALL_WORKERS']\n",
      "Stars:  ['MAX_POWER', 'MAX_POPULARITY', 'ALL_WORKERS']\n",
      "Stars:  ['MAX_POWER', 'MAX_POPULARITY', 'ALL_WORKERS']\n",
      "Stars:  ['MAX_POWER', 'MAX_POPULARITY', 'ALL_WORKERS']\n",
      "Stars:  ['MAX_POWER', 'MAX_POPULARITY', 'ALL_WORKERS']\n",
      "Stars:  ['MAX_POWER', 'MAX_POPULARITY', 'ALL_WORKERS', 'ALL_MECHS']\n",
      "Stars:  ['MAX_POWER', 'MAX_POPULARITY', 'ALL_WORKERS', 'ALL_MECHS', 'ALL_BUILDINGS']\n",
      "Stars:  ['MAX_POWER', 'MAX_POPULARITY', 'ALL_WORKERS', 'ALL_MECHS', 'ALL_BUILDINGS']\n",
      "Stars:  ['MAX_POWER', 'MAX_POPULARITY', 'ALL_WORKERS', 'ALL_MECHS', 'ALL_BUILDINGS']\n",
      "Stars:  ['MAX_POWER', 'MAX_POPULARITY', 'ALL_WORKERS', 'ALL_MECHS', 'ALL_BUILDINGS']\n",
      "Stars:  ['MAX_POWER', 'MAX_POPULARITY', 'ALL_WORKERS', 'ALL_MECHS', 'ALL_BUILDINGS']\n",
      "Stars:  ['MAX_POWER', 'MAX_POPULARITY', 'ALL_WORKERS', 'ALL_MECHS', 'ALL_BUILDINGS']\n",
      "Stars:  ['MAX_POWER', 'MAX_POPULARITY', 'ALL_WORKERS', 'ALL_MECHS', 'ALL_BUILDINGS']\n",
      "Stars:  ['MAX_POWER', 'MAX_POPULARITY', 'ALL_WORKERS', 'ALL_MECHS', 'ALL_BUILDINGS']\n"
     ]
    },
    {
     "ename": "JSONDecodeError",
     "evalue": "Expecting value: line 1 column 1 (char 0)",
     "output_type": "error",
     "traceback": [
      "\u001b[0;31m---------------------------------------------------------------------------\u001b[0m",
      "\u001b[0;31mJSONDecodeError\u001b[0m                           Traceback (most recent call last)",
      "\u001b[0;32m<ipython-input-12-0e0d976bcc68>\u001b[0m in \u001b[0;36m<module>\u001b[0;34m()\u001b[0m\n\u001b[1;32m     21\u001b[0m     \u001b[0mperform_seconday_action_if_available\u001b[0m\u001b[0;34m(\u001b[0m\u001b[0;34m)\u001b[0m\u001b[0;34m\u001b[0m\u001b[0m\n\u001b[1;32m     22\u001b[0m \u001b[0;34m\u001b[0m\u001b[0m\n\u001b[0;32m---> 23\u001b[0;31m     \u001b[0mprint_stars\u001b[0m\u001b[0;34m(\u001b[0m\u001b[0;34m)\u001b[0m\u001b[0;34m\u001b[0m\u001b[0m\n\u001b[0m",
      "\u001b[0;32m<ipython-input-4-660c3d4af35e>\u001b[0m in \u001b[0;36mprint_stars\u001b[0;34m()\u001b[0m\n\u001b[1;32m      4\u001b[0m \u001b[0;34m\u001b[0m\u001b[0m\n\u001b[1;32m      5\u001b[0m \u001b[0;32mdef\u001b[0m \u001b[0mprint_stars\u001b[0m\u001b[0;34m(\u001b[0m\u001b[0;34m)\u001b[0m\u001b[0;34m:\u001b[0m\u001b[0;34m\u001b[0m\u001b[0m\n\u001b[0;32m----> 6\u001b[0;31m     \u001b[0mprint\u001b[0m\u001b[0;34m(\u001b[0m\u001b[0;34m\"Stars: \"\u001b[0m \u001b[0;34m,\u001b[0m \u001b[0;34m[\u001b[0m\u001b[0ms\u001b[0m\u001b[0;34m[\u001b[0m\u001b[0;34m'star'\u001b[0m\u001b[0;34m]\u001b[0m \u001b[0;32mfor\u001b[0m \u001b[0ms\u001b[0m \u001b[0;32min\u001b[0m \u001b[0mget_star_events\u001b[0m\u001b[0;34m(\u001b[0m\u001b[0;34m)\u001b[0m\u001b[0;34m]\u001b[0m\u001b[0;34m)\u001b[0m\u001b[0;34m\u001b[0m\u001b[0m\n\u001b[0m\u001b[1;32m      7\u001b[0m \u001b[0;34m\u001b[0m\u001b[0m\n\u001b[1;32m      8\u001b[0m \u001b[0mprint_stars\u001b[0m\u001b[0;34m(\u001b[0m\u001b[0;34m)\u001b[0m\u001b[0;34m\u001b[0m\u001b[0m\n",
      "\u001b[0;32m<ipython-input-4-660c3d4af35e>\u001b[0m in \u001b[0;36mget_star_events\u001b[0;34m()\u001b[0m\n\u001b[1;32m      1\u001b[0m \u001b[0;32mdef\u001b[0m \u001b[0mget_star_events\u001b[0m\u001b[0;34m(\u001b[0m\u001b[0;34m)\u001b[0m\u001b[0;34m:\u001b[0m\u001b[0;34m\u001b[0m\u001b[0m\n\u001b[0;32m----> 2\u001b[0;31m     \u001b[0mgame\u001b[0m \u001b[0;34m=\u001b[0m \u001b[0mclient\u001b[0m\u001b[0;34m.\u001b[0m\u001b[0mexport_game\u001b[0m\u001b[0;34m(\u001b[0m\u001b[0;34m)\u001b[0m\u001b[0;34m\u001b[0m\u001b[0m\n\u001b[0m\u001b[1;32m      3\u001b[0m     \u001b[0;32mreturn\u001b[0m \u001b[0;34m[\u001b[0m\u001b[0mg\u001b[0m \u001b[0;32mfor\u001b[0m \u001b[0mg\u001b[0m \u001b[0;32min\u001b[0m \u001b[0mgame\u001b[0m \u001b[0;32mif\u001b[0m \u001b[0mg\u001b[0m\u001b[0;34m[\u001b[0m\u001b[0;34m'type'\u001b[0m\u001b[0;34m]\u001b[0m \u001b[0;34m==\u001b[0m \u001b[0;34m'StarEvent'\u001b[0m\u001b[0;34m]\u001b[0m\u001b[0;34m\u001b[0m\u001b[0m\n\u001b[1;32m      4\u001b[0m \u001b[0;34m\u001b[0m\u001b[0m\n\u001b[1;32m      5\u001b[0m \u001b[0;32mdef\u001b[0m \u001b[0mprint_stars\u001b[0m\u001b[0;34m(\u001b[0m\u001b[0;34m)\u001b[0m\u001b[0;34m:\u001b[0m\u001b[0;34m\u001b[0m\u001b[0m\n",
      "\u001b[0;32m~/tng/boardgame/kosa/python_client/kosa/client.py\u001b[0m in \u001b[0;36mexport_game\u001b[0;34m(self)\u001b[0m\n\u001b[1;32m     63\u001b[0m \u001b[0;34m\u001b[0m\u001b[0m\n\u001b[1;32m     64\u001b[0m     \u001b[0;32mdef\u001b[0m \u001b[0mexport_game\u001b[0m\u001b[0;34m(\u001b[0m\u001b[0mself\u001b[0m\u001b[0;34m)\u001b[0m\u001b[0;34m:\u001b[0m\u001b[0;34m\u001b[0m\u001b[0m\n\u001b[0;32m---> 65\u001b[0;31m         \u001b[0;32mreturn\u001b[0m \u001b[0mjson\u001b[0m\u001b[0;34m.\u001b[0m\u001b[0mloads\u001b[0m\u001b[0;34m(\u001b[0m\u001b[0mself\u001b[0m\u001b[0;34m.\u001b[0m\u001b[0mperform_command\u001b[0m\u001b[0;34m(\u001b[0m\u001b[0;34m'EXPORT '\u001b[0m \u001b[0;34m+\u001b[0m \u001b[0mself\u001b[0m\u001b[0;34m.\u001b[0m\u001b[0mgame_id\u001b[0m\u001b[0;34m)\u001b[0m\u001b[0;34m.\u001b[0m\u001b[0mstrip\u001b[0m\u001b[0;34m(\u001b[0m\u001b[0;34m)\u001b[0m\u001b[0;34m)\u001b[0m\u001b[0;34m\u001b[0m\u001b[0m\n\u001b[0m\u001b[1;32m     66\u001b[0m \u001b[0;34m\u001b[0m\u001b[0m\n\u001b[1;32m     67\u001b[0m     \u001b[0;32mdef\u001b[0m \u001b[0mimport_game\u001b[0m\u001b[0;34m(\u001b[0m\u001b[0mself\u001b[0m\u001b[0;34m,\u001b[0m \u001b[0mgame\u001b[0m\u001b[0;34m)\u001b[0m\u001b[0;34m:\u001b[0m\u001b[0;34m\u001b[0m\u001b[0m\n",
      "\u001b[0;32m/usr/lib/python3.5/json/__init__.py\u001b[0m in \u001b[0;36mloads\u001b[0;34m(s, encoding, cls, object_hook, parse_float, parse_int, parse_constant, object_pairs_hook, **kw)\u001b[0m\n\u001b[1;32m    317\u001b[0m             \u001b[0mparse_int\u001b[0m \u001b[0;32mis\u001b[0m \u001b[0;32mNone\u001b[0m \u001b[0;32mand\u001b[0m \u001b[0mparse_float\u001b[0m \u001b[0;32mis\u001b[0m \u001b[0;32mNone\u001b[0m \u001b[0;32mand\u001b[0m\u001b[0;34m\u001b[0m\u001b[0m\n\u001b[1;32m    318\u001b[0m             parse_constant is None and object_pairs_hook is None and not kw):\n\u001b[0;32m--> 319\u001b[0;31m         \u001b[0;32mreturn\u001b[0m \u001b[0m_default_decoder\u001b[0m\u001b[0;34m.\u001b[0m\u001b[0mdecode\u001b[0m\u001b[0;34m(\u001b[0m\u001b[0ms\u001b[0m\u001b[0;34m)\u001b[0m\u001b[0;34m\u001b[0m\u001b[0m\n\u001b[0m\u001b[1;32m    320\u001b[0m     \u001b[0;32mif\u001b[0m \u001b[0mcls\u001b[0m \u001b[0;32mis\u001b[0m \u001b[0;32mNone\u001b[0m\u001b[0;34m:\u001b[0m\u001b[0;34m\u001b[0m\u001b[0m\n\u001b[1;32m    321\u001b[0m         \u001b[0mcls\u001b[0m \u001b[0;34m=\u001b[0m \u001b[0mJSONDecoder\u001b[0m\u001b[0;34m\u001b[0m\u001b[0m\n",
      "\u001b[0;32m/usr/lib/python3.5/json/decoder.py\u001b[0m in \u001b[0;36mdecode\u001b[0;34m(self, s, _w)\u001b[0m\n\u001b[1;32m    337\u001b[0m \u001b[0;34m\u001b[0m\u001b[0m\n\u001b[1;32m    338\u001b[0m         \"\"\"\n\u001b[0;32m--> 339\u001b[0;31m         \u001b[0mobj\u001b[0m\u001b[0;34m,\u001b[0m \u001b[0mend\u001b[0m \u001b[0;34m=\u001b[0m \u001b[0mself\u001b[0m\u001b[0;34m.\u001b[0m\u001b[0mraw_decode\u001b[0m\u001b[0;34m(\u001b[0m\u001b[0ms\u001b[0m\u001b[0;34m,\u001b[0m \u001b[0midx\u001b[0m\u001b[0;34m=\u001b[0m\u001b[0m_w\u001b[0m\u001b[0;34m(\u001b[0m\u001b[0ms\u001b[0m\u001b[0;34m,\u001b[0m \u001b[0;36m0\u001b[0m\u001b[0;34m)\u001b[0m\u001b[0;34m.\u001b[0m\u001b[0mend\u001b[0m\u001b[0;34m(\u001b[0m\u001b[0;34m)\u001b[0m\u001b[0;34m)\u001b[0m\u001b[0;34m\u001b[0m\u001b[0m\n\u001b[0m\u001b[1;32m    340\u001b[0m         \u001b[0mend\u001b[0m \u001b[0;34m=\u001b[0m \u001b[0m_w\u001b[0m\u001b[0;34m(\u001b[0m\u001b[0ms\u001b[0m\u001b[0;34m,\u001b[0m \u001b[0mend\u001b[0m\u001b[0;34m)\u001b[0m\u001b[0;34m.\u001b[0m\u001b[0mend\u001b[0m\u001b[0;34m(\u001b[0m\u001b[0;34m)\u001b[0m\u001b[0;34m\u001b[0m\u001b[0m\n\u001b[1;32m    341\u001b[0m         \u001b[0;32mif\u001b[0m \u001b[0mend\u001b[0m \u001b[0;34m!=\u001b[0m \u001b[0mlen\u001b[0m\u001b[0;34m(\u001b[0m\u001b[0ms\u001b[0m\u001b[0;34m)\u001b[0m\u001b[0;34m:\u001b[0m\u001b[0;34m\u001b[0m\u001b[0m\n",
      "\u001b[0;32m/usr/lib/python3.5/json/decoder.py\u001b[0m in \u001b[0;36mraw_decode\u001b[0;34m(self, s, idx)\u001b[0m\n\u001b[1;32m    355\u001b[0m             \u001b[0mobj\u001b[0m\u001b[0;34m,\u001b[0m \u001b[0mend\u001b[0m \u001b[0;34m=\u001b[0m \u001b[0mself\u001b[0m\u001b[0;34m.\u001b[0m\u001b[0mscan_once\u001b[0m\u001b[0;34m(\u001b[0m\u001b[0ms\u001b[0m\u001b[0;34m,\u001b[0m \u001b[0midx\u001b[0m\u001b[0;34m)\u001b[0m\u001b[0;34m\u001b[0m\u001b[0m\n\u001b[1;32m    356\u001b[0m         \u001b[0;32mexcept\u001b[0m \u001b[0mStopIteration\u001b[0m \u001b[0;32mas\u001b[0m \u001b[0merr\u001b[0m\u001b[0;34m:\u001b[0m\u001b[0;34m\u001b[0m\u001b[0m\n\u001b[0;32m--> 357\u001b[0;31m             \u001b[0;32mraise\u001b[0m \u001b[0mJSONDecodeError\u001b[0m\u001b[0;34m(\u001b[0m\u001b[0;34m\"Expecting value\"\u001b[0m\u001b[0;34m,\u001b[0m \u001b[0ms\u001b[0m\u001b[0;34m,\u001b[0m \u001b[0merr\u001b[0m\u001b[0;34m.\u001b[0m\u001b[0mvalue\u001b[0m\u001b[0;34m)\u001b[0m \u001b[0;32mfrom\u001b[0m \u001b[0;32mNone\u001b[0m\u001b[0;34m\u001b[0m\u001b[0m\n\u001b[0m\u001b[1;32m    358\u001b[0m         \u001b[0;32mreturn\u001b[0m \u001b[0mobj\u001b[0m\u001b[0;34m,\u001b[0m \u001b[0mend\u001b[0m\u001b[0;34m\u001b[0m\u001b[0m\n",
      "\u001b[0;31mJSONDecodeError\u001b[0m: Expecting value: line 1 column 1 (char 0)"
     ]
    }
   ],
   "source": [
    "def perform_seconday_action_if_available():\n",
    "    available_actions = client.get_available_actions()\n",
    "    for action in ['ENLIST', 'DEPLOY', 'BUILD', 'UPGRADE']:\n",
    "        if action in available_actions:\n",
    "            number = len(client.get_available_options(action))\n",
    "            client.perform_action(action, random.randint(0, number))\n",
    "            \n",
    "for _ in range(30):\n",
    "    perform_action_matching('BOLSTER', '')\n",
    "    perform_seconday_action_if_available()\n",
    "    \n",
    "    perform_action_matching('TRADE', 'Popularity')\n",
    "    perform_seconday_action_if_available()\n",
    "        \n",
    "    perform_action_matching('MOVE', 'GainCoin')\n",
    "    perform_seconday_action_if_available()\n",
    "\n",
    "    perform_action_matching('PRODUCE', random.choice(['MOUNTAIN', 'FOREST', 'TUNDRA']))\n",
    "    perform_seconday_action_if_available()\n",
    "    perform_action_matching('TRADE', 'OIL')\n",
    "    perform_seconday_action_if_available()\n",
    "    \n",
    "    print_stars()"
   ]
  }
 ],
 "metadata": {
  "kernelspec": {
   "display_name": "Python 3",
   "language": "python",
   "name": "python3"
  },
  "language_info": {
   "codemirror_mode": {
    "name": "ipython",
    "version": 3
   },
   "file_extension": ".py",
   "mimetype": "text/x-python",
   "name": "python",
   "nbconvert_exporter": "python",
   "pygments_lexer": "ipython3",
   "version": "3.5.2"
  }
 },
 "nbformat": 4,
 "nbformat_minor": 2
}

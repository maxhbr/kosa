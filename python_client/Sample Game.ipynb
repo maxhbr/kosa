{
 "cells": [
  {
   "cell_type": "markdown",
   "metadata": {},
   "source": [
    "# Single Player Game Demonstration\n",
    "\n",
    "Scythe is a fantastic board game. If you are looking to get schooled, ask Helge for a game. The game takes place on a map, which looks like that\n",
    "\n",
    "![](map.png)\n",
    "\n",
    "We will be the green player, who starts with workers at `m1` and `f1`. For the single player game workers are important, we can ignore everything else. The last important thing are the available actions, which are described in the player mat fof rthe industrial player\n",
    "\n",
    "![](industrial.jpg)\n",
    "\n",
    "Finally some basic imports, and starting the game as the green industrial player."
   ]
  },
  {
   "cell_type": "code",
   "execution_count": 1,
   "metadata": {},
   "outputs": [
    {
     "name": "stdout",
     "output_type": "stream",
     "text": [
      "player_id  a7df59ad-94bc-42de-ab21-427e77b614d7\n",
      "joined game with id  670ec42b-e126-4b24-83d0-40ef432098a2\n",
      "join OK\n",
      "start OK\n",
      "game id  670ec42b-e126-4b24-83d0-40ef432098a2\n"
     ]
    }
   ],
   "source": [
    "import re\n",
    "import random\n",
    "from kosa import Client\n",
    "client = Client()\n",
    "\n",
    "client.join_a_game(color='green', player_mat='INDUSTRIAL')\n",
    "client.start()\n",
    "print('game id ', client.game_id)"
   ]
  },
  {
   "cell_type": "markdown",
   "metadata": {},
   "source": [
    "We now perform a mind blowing set of actions."
   ]
  },
  {
   "cell_type": "code",
   "execution_count": 2,
   "metadata": {},
   "outputs": [],
   "source": [
    "import json\n",
    "\n",
    "def perform_action_matching(action, regex):\n",
    "    available_actions = client.get_available_actions()\n",
    "    if available_actions and action in available_actions:\n",
    "        option_list = client.get_available_options(action)\n",
    "        index_to_play = None\n",
    "        for idx, val in enumerate(option_list):\n",
    "            result = re.compile(regex).findall(json.dumps(val))\n",
    "            if len(result) > 0:\n",
    "                index_to_play = idx\n",
    "                break\n",
    "    \n",
    "        if index_to_play is not None:\n",
    "            client.perform_action(action, index_to_play)\n",
    "    \n",
    "for _ in range(16):\n",
    "    perform_action_matching('MOVE', 'GainCoin')\n",
    "    perform_action_matching('TRADE', 'Popularity')\n",
    "    perform_action_matching('MOVE', 'GainCoin')\n",
    "    perform_action_matching('BOLSTER', 'BolsterPower')\n",
    "    perform_action_matching('PRODUCE', 'm1')\n",
    "    \n",
    "perform_action_matching('MOVE', 'GainCoin')\n",
    "perform_action_matching('TRADE', 'TradePopularity')\n",
    "perform_action_matching('MOVE', 'GainCoin')\n",
    "perform_action_matching('TRADE', 'TradePopularity')"
   ]
  },
  {
   "cell_type": "markdown",
   "metadata": {},
   "source": [
    "We have now obtained 2 stars, which we can check as follows:"
   ]
  },
  {
   "cell_type": "code",
   "execution_count": 3,
   "metadata": {},
   "outputs": [
    {
     "name": "stdout",
     "output_type": "stream",
     "text": [
      "Stars:  ['MAX_POWER', 'MAX_POPULARITY']\n"
     ]
    }
   ],
   "source": [
    "def get_star_events():\n",
    "    game = json.loads(client.export_game() or '[]')\n",
    "    return [g for g in game if g['type'] == 'StarEvent']\n",
    "\n",
    "def print_stars():\n",
    "    print(\"Stars: \" , [s['star'] for s in get_star_events()])\n",
    "    \n",
    "print_stars()"
   ]
  },
  {
   "cell_type": "markdown",
   "metadata": {},
   "source": [
    "# Moving around\n",
    "The following performs some moves to place workers."
   ]
  },
  {
   "cell_type": "code",
   "execution_count": 4,
   "metadata": {},
   "outputs": [],
   "source": [
    "perform_action_matching('MOVE','WORKER_2.*v1')\n",
    "perform_action_matching('PRODUCE','VILLAGE')\n",
    "perform_action_matching('MOVE', 'GainCoin')\n",
    "perform_action_matching('PRODUCE','VILLAGE')"
   ]
  },
  {
   "cell_type": "code",
   "execution_count": 5,
   "metadata": {},
   "outputs": [],
   "source": [
    "perform_action_matching('MOVE', 'WORKER_1.*f1.*FARM')\n",
    "perform_action_matching('PRODUCE','VILLAGE')\n",
    "perform_action_matching('MOVE', 'WORKER_1.*t2.*TUNDRA')\n",
    "perform_action_matching('PRODUCE','VILLAGE')\n",
    "perform_action_matching('MOVE', 'WORKER_1.*m3.*MOUNTAIN')\n",
    "perform_action_matching('PRODUCE','VILLAGE')\n",
    "perform_action_matching('MOVE', 'WORKER_1.*w3.*FOREST')\n",
    "perform_action_matching('PRODUCE','VILLAGE')"
   ]
  },
  {
   "cell_type": "code",
   "execution_count": 6,
   "metadata": {},
   "outputs": [
    {
     "name": "stdout",
     "output_type": "stream",
     "text": [
      "Stars:  ['MAX_POWER', 'MAX_POPULARITY', 'ALL_WORKERS']\n"
     ]
    }
   ],
   "source": [
    "print_stars()"
   ]
  },
  {
   "cell_type": "code",
   "execution_count": 7,
   "metadata": {},
   "outputs": [],
   "source": [
    "perform_action_matching('MOVE', 'WORKER_7.*f1.*FARM')\n",
    "perform_action_matching('PRODUCE','TUNDRA')\n",
    "perform_action_matching('MOVE', 'WORKER_7.*t2.*TUNDRA')\n",
    "perform_action_matching('PRODUCE','TUNDRA')\n",
    "perform_action_matching('MOVE', 'WORKER_7.*m3.*MOUNYAIN')\n",
    "perform_action_matching('PRODUCE','MOUNTAIN')\n",
    "perform_action_matching('MOVE', 'WORKER_7.*v5.*VILLAGE')\n",
    "perform_action_matching('PRODUCE','MOUNTAIN')"
   ]
  },
  {
   "cell_type": "code",
   "execution_count": 8,
   "metadata": {},
   "outputs": [],
   "source": [
    "perform_action_matching('MOVE', 'WORKER_4.*f1.*FARM')\n",
    "perform_action_matching('PRODUCE','FOREST')\n",
    "perform_action_matching('MOVE', 'WORKER_4.*m1.*MOUNTAIN')\n",
    "perform_action_matching('PRODUCE','MOUNTAIN')"
   ]
  },
  {
   "cell_type": "code",
   "execution_count": 9,
   "metadata": {},
   "outputs": [],
   "source": [
    "perform_action_matching('MOVE', 'WORKER_3.*f1.*FARM')\n",
    "perform_action_matching('PRODUCE','FOREST')\n",
    "perform_action_matching('MOVE', 'WORKER_3.*t2.*TUNDRA')\n",
    "perform_action_matching('PRODUCE','FOREST')"
   ]
  },
  {
   "cell_type": "code",
   "execution_count": 10,
   "metadata": {},
   "outputs": [],
   "source": [
    "perform_action_matching('MOVE', 'WORKER_8.*f1.*FARM')\n",
    "perform_action_matching('PRODUCE','FOREST')\n",
    "perform_action_matching('MOVE', 'WORKER_8.*t2.*TUNDRA')\n",
    "perform_action_matching('PRODUCE','TUNDRA')\n",
    "perform_action_matching('MOVE', 'WORKER_8.*m3.*MOUNTAIN')\n",
    "perform_action_matching('PRODUCE','TUNDRA')"
   ]
  },
  {
   "cell_type": "markdown",
   "metadata": {},
   "source": [
    "# Perform secondary action to gain more stars\n",
    "\n",
    "Currently the game finished event is not captured correctly. So, we get an exception. One can see the game finishing, by watching `nc localhost 1337`."
   ]
  },
  {
   "cell_type": "code",
   "execution_count": 11,
   "metadata": {},
   "outputs": [
    {
     "name": "stdout",
     "output_type": "stream",
     "text": [
      "Stars:  ['MAX_POWER', 'MAX_POPULARITY', 'ALL_WORKERS']\n",
      "Stars:  ['MAX_POWER', 'MAX_POPULARITY', 'ALL_WORKERS']\n",
      "Stars:  ['MAX_POWER', 'MAX_POPULARITY', 'ALL_WORKERS']\n",
      "Stars:  ['MAX_POWER', 'MAX_POPULARITY', 'ALL_WORKERS']\n",
      "Stars:  ['MAX_POWER', 'MAX_POPULARITY', 'ALL_WORKERS']\n",
      "Stars:  ['MAX_POWER', 'MAX_POPULARITY', 'ALL_WORKERS']\n",
      "Stars:  ['MAX_POWER', 'MAX_POPULARITY', 'ALL_WORKERS']\n",
      "Stars:  ['MAX_POWER', 'MAX_POPULARITY', 'ALL_WORKERS', 'ALL_RECRUITS']\n",
      "Stars:  ['MAX_POWER', 'MAX_POPULARITY', 'ALL_WORKERS', 'ALL_RECRUITS']\n",
      "Stars:  ['MAX_POWER', 'MAX_POPULARITY', 'ALL_WORKERS', 'ALL_RECRUITS']\n",
      "Stars:  ['MAX_POWER', 'MAX_POPULARITY', 'ALL_WORKERS', 'ALL_RECRUITS']\n",
      "Stars:  ['MAX_POWER', 'MAX_POPULARITY', 'ALL_WORKERS', 'ALL_RECRUITS']\n",
      "Stars:  ['MAX_POWER', 'MAX_POPULARITY', 'ALL_WORKERS', 'ALL_RECRUITS']\n",
      "Stars:  ['MAX_POWER', 'MAX_POPULARITY', 'ALL_WORKERS', 'ALL_RECRUITS']\n",
      "Stars:  ['MAX_POWER', 'MAX_POPULARITY', 'ALL_WORKERS', 'ALL_RECRUITS']\n",
      "Stars:  ['MAX_POWER', 'MAX_POPULARITY', 'ALL_WORKERS', 'ALL_RECRUITS']\n",
      "Stars:  ['MAX_POWER', 'MAX_POPULARITY', 'ALL_WORKERS', 'ALL_RECRUITS', 'ALL_MECHS']\n",
      "Stars:  ['MAX_POWER', 'MAX_POPULARITY', 'ALL_WORKERS', 'ALL_RECRUITS', 'ALL_MECHS']\n",
      "Stars:  []\n"
     ]
    }
   ],
   "source": [
    "def perform_seconday_action_if_available():\n",
    "    available_actions = client.get_available_actions()\n",
    "    if available_actions:\n",
    "        for action in ['ENLIST', 'DEPLOY', 'BUILD', 'UPGRADE']:\n",
    "            if action in available_actions:\n",
    "                number = len(client.get_available_options(action) or [])\n",
    "                if number > 0:\n",
    "                    client.perform_action(action, random.randint(0, number))\n",
    "            \n",
    "while not client.is_game_over():\n",
    "    perform_action_matching('BOLSTER', '')\n",
    "    perform_seconday_action_if_available()\n",
    "    \n",
    "    perform_action_matching('TRADE', 'Popularity')\n",
    "    perform_seconday_action_if_available()\n",
    "        \n",
    "    perform_action_matching('MOVE', 'GainCoin')\n",
    "    perform_seconday_action_if_available()\n",
    "\n",
    "    perform_action_matching('PRODUCE', random.choice(['MOUNTAIN', 'FOREST', 'TUNDRA']))\n",
    "    perform_seconday_action_if_available()\n",
    "    perform_action_matching('TRADE', 'OIL')\n",
    "    perform_seconday_action_if_available()\n",
    "    \n",
    "    print_stars()"
   ]
  },
  {
   "cell_type": "code",
   "execution_count": 12,
   "metadata": {},
   "outputs": [],
   "source": [
    "client.get_stats()"
   ]
  }
 ],
 "metadata": {
  "kernelspec": {
   "display_name": "Python 3",
   "language": "python",
   "name": "python3"
  },
  "language_info": {
   "codemirror_mode": {
    "name": "ipython",
    "version": 3
   },
   "file_extension": ".py",
   "mimetype": "text/x-python",
   "name": "python",
   "nbconvert_exporter": "python",
   "pygments_lexer": "ipython3",
   "version": "3.5.2"
  }
 },
 "nbformat": 4,
 "nbformat_minor": 2
}

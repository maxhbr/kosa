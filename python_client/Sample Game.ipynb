{
 "cells": [
  {
   "cell_type": "markdown",
   "metadata": {},
   "source": [
    "# Single Player Game Demonstration\n",
    "\n",
    "Scythe is a fantastic board game. If you are looking to get schooled, ask Helge for a game. The game takes place on a map, which looks like that\n",
    "\n",
    "![](map.png)\n",
    "\n",
    "We will be the green player, who starts with workers at `m1` and `f1`. For the single player game workers are important, we can ignore everything else. The last important thing are the available actions, which are described in the player mat fof rthe industrial player\n",
    "\n",
    "![](industrial.png)\n",
    "\n",
    "Finally some basic imports, and starting the game as the green industrial player."
   ]
  },
  {
   "cell_type": "code",
   "execution_count": 1,
   "metadata": {},
   "outputs": [
    {
     "name": "stdout",
     "output_type": "stream",
     "text": [
      "game id  ea793840-47aa-4b0f-90fb-02d4dca020a1\n"
     ]
    }
   ],
   "source": [
    "import re\n",
    "import random\n",
    "from kosa import Client\n",
    "client = Client()\n",
    "\n",
    "client.join_a_game(color='green', player_mat='INDUSTRIAL')\n",
    "client.start()\n",
    "print('game id ', client.game_id)"
   ]
  },
  {
   "cell_type": "markdown",
   "metadata": {},
   "source": [
    "We now perform a mind blowing set of actions."
   ]
  },
  {
   "cell_type": "code",
   "execution_count": 2,
   "metadata": {},
   "outputs": [],
   "source": [
    "def perform_action_matching(action, regex):\n",
    "    available_actions = client.get_available_actions()\n",
    "    if action in available_actions:\n",
    "        option_list = client.get_available_options(action)\n",
    "        index_to_play = None\n",
    "        for idx, val in enumerate(option_list):\n",
    "            result = re.compile(regex).findall(val)\n",
    "            if len(result) > 0:\n",
    "                index_to_play = idx\n",
    "                break\n",
    "    \n",
    "        if index_to_play is not None:\n",
    "            client.perform_action(action, index_to_play)\n",
    "    \n",
    "for _ in range(16):\n",
    "    perform_action_matching('MOVE', 'GainCoin')\n",
    "    perform_action_matching('TRADE', 'Popularity')\n",
    "    perform_action_matching('MOVE', 'GainCoin')\n",
    "    perform_action_matching('BOLSTER', 'BolsterPower')\n",
    "    perform_action_matching('PRODUCE', 'm1')\n",
    "    \n",
    "perform_action_matching('MOVE', 'GainCoin')\n",
    "perform_action_matching('TRADE', 'TradePopularity')\n",
    "perform_action_matching('MOVE', 'GainCoin')\n",
    "perform_action_matching('TRADE', 'TradePopularity')"
   ]
  },
  {
   "cell_type": "markdown",
   "metadata": {},
   "source": [
    "We have now obtained 2 stars, which we can check as follows:"
   ]
  },
  {
   "cell_type": "code",
   "execution_count": 3,
   "metadata": {},
   "outputs": [
    {
     "name": "stdout",
     "output_type": "stream",
     "text": [
      "Stars:  ['MAX_POWER', 'MAX_POPULARITY']\n"
     ]
    }
   ],
   "source": [
    "def get_star_events():\n",
    "    game = client.export_game()\n",
    "    return [g for g in game if g['type'] == 'StarEvent']\n",
    "\n",
    "def print_stars():\n",
    "    print(\"Stars: \" , [s['star'] for s in get_star_events()])\n",
    "    \n",
    "print_stars()"
   ]
  },
  {
   "cell_type": "markdown",
   "metadata": {},
   "source": [
    "# Moving around\n",
    "The following performs some moves to place workers."
   ]
  },
  {
   "cell_type": "code",
   "execution_count": 4,
   "metadata": {},
   "outputs": [],
   "source": [
    "perform_action_matching('MOVE','WORKER_2.*v1.*VILLAGE')\n",
    "perform_action_matching('PRODUCE','VILLAGE')\n",
    "perform_action_matching('MOVE', 'GainCoin')\n",
    "perform_action_matching('PRODUCE','VILLAGE')"
   ]
  },
  {
   "cell_type": "code",
   "execution_count": 5,
   "metadata": {},
   "outputs": [],
   "source": [
    "perform_action_matching('MOVE', 'WORKER_1.*f1.*FARM')\n",
    "perform_action_matching('PRODUCE','VILLAGE')\n",
    "perform_action_matching('MOVE', 'WORKER_1.*t2.*TUNDRA')\n",
    "perform_action_matching('PRODUCE','VILLAGE')\n",
    "perform_action_matching('MOVE', 'WORKER_1.*m3.*MOUNTAIN')\n",
    "perform_action_matching('PRODUCE','VILLAGE')\n",
    "perform_action_matching('MOVE', 'WORKER_1.*w3.*FOREST')\n",
    "perform_action_matching('PRODUCE','VILLAGE')"
   ]
  },
  {
   "cell_type": "code",
   "execution_count": 6,
   "metadata": {},
   "outputs": [
    {
     "name": "stdout",
     "output_type": "stream",
     "text": [
      "Stars:  ['MAX_POWER', 'MAX_POPULARITY', 'ALL_WORKERS']\n"
     ]
    }
   ],
   "source": [
    "print_stars()"
   ]
  },
  {
   "cell_type": "code",
   "execution_count": 7,
   "metadata": {},
   "outputs": [],
   "source": [
    "perform_action_matching('MOVE', 'WORKER_7.*f1.*FARM')\n",
    "perform_action_matching('PRODUCE','TUNDRA')\n",
    "perform_action_matching('MOVE', 'WORKER_7.*t2.*TUNDRA')\n",
    "perform_action_matching('PRODUCE','TUNDRA')\n",
    "perform_action_matching('MOVE', 'WORKER_7.*m3.*MOUNYAIN')\n",
    "perform_action_matching('PRODUCE','MOUNTAIN')\n",
    "perform_action_matching('MOVE', 'WORKER_7.*v5.*VILLAGE')\n",
    "perform_action_matching('PRODUCE','MOUNTAIN')"
   ]
  },
  {
   "cell_type": "code",
   "execution_count": 8,
   "metadata": {},
   "outputs": [],
   "source": [
    "perform_action_matching('MOVE', 'WORKER_4.*f1.*FARM')\n",
    "perform_action_matching('PRODUCE','FOREST')\n",
    "perform_action_matching('MOVE', 'WORKER_4.*m1.*MOUNTAIN')\n",
    "perform_action_matching('PRODUCE','MOUNTAIN')"
   ]
  },
  {
   "cell_type": "code",
   "execution_count": 9,
   "metadata": {},
   "outputs": [],
   "source": [
    "perform_action_matching('MOVE', 'WORKER_3.*f1.*FARM')\n",
    "perform_action_matching('PRODUCE','FOREST')\n",
    "perform_action_matching('MOVE', 'WORKER_3.*t2.*TUNDRA')\n",
    "perform_action_matching('PRODUCE','FOREST')"
   ]
  },
  {
   "cell_type": "code",
   "execution_count": 10,
   "metadata": {},
   "outputs": [],
   "source": [
    "perform_action_matching('MOVE', 'WORKER_8.*f1.*FARM')\n",
    "perform_action_matching('PRODUCE','FOREST')\n",
    "perform_action_matching('MOVE', 'WORKER_8.*t2.*TUNDRA')\n",
    "perform_action_matching('PRODUCE','TUNDRA')\n",
    "perform_action_matching('MOVE', 'WORKER_8.*m3.*MOUNTAIN')\n",
    "perform_action_matching('PRODUCE','TUNDRA')"
   ]
  },
  {
   "cell_type": "markdown",
   "metadata": {},
   "source": [
    "# Perform secondary action to gain more stars\n",
    "\n",
    "Currently the game finished event is not captured correctly. So, we get an exception. One can see the game finishing, by watching `nc localhost 1337`."
   ]
  },
  {
   "cell_type": "code",
   "execution_count": 11,
   "metadata": {},
   "outputs": [
    {
     "name": "stdout",
     "output_type": "stream",
     "text": [
      "Stars:  ['MAX_POWER', 'MAX_POPULARITY', 'ALL_WORKERS']\n",
      "Stars:  ['MAX_POWER', 'MAX_POPULARITY', 'ALL_WORKERS']\n",
      "Stars:  ['MAX_POWER', 'MAX_POPULARITY', 'ALL_WORKERS']\n",
      "Stars:  ['MAX_POWER', 'MAX_POPULARITY', 'ALL_WORKERS', 'ALL_MECHS']\n",
      "Stars:  ['MAX_POWER', 'MAX_POPULARITY', 'ALL_WORKERS', 'ALL_MECHS']\n",
      "Stars:  ['MAX_POWER', 'MAX_POPULARITY', 'ALL_WORKERS', 'ALL_MECHS']\n",
      "Stars:  ['MAX_POWER', 'MAX_POPULARITY', 'ALL_WORKERS', 'ALL_MECHS']\n",
      "Stars:  ['MAX_POWER', 'MAX_POPULARITY', 'ALL_WORKERS', 'ALL_MECHS']\n",
      "Stars:  ['MAX_POWER', 'MAX_POPULARITY', 'ALL_WORKERS', 'ALL_MECHS', 'ALL_UPGRADES']\n",
      "Stars:  ['MAX_POWER', 'MAX_POPULARITY', 'ALL_WORKERS', 'ALL_MECHS', 'ALL_UPGRADES']\n",
      "Stars:  ['MAX_POWER', 'MAX_POPULARITY', 'ALL_WORKERS', 'ALL_MECHS', 'ALL_UPGRADES']\n",
      "Stars:  ['MAX_POWER', 'MAX_POPULARITY', 'ALL_WORKERS', 'ALL_MECHS', 'ALL_UPGRADES']\n",
      "Stars:  ['MAX_POWER', 'MAX_POPULARITY', 'ALL_WORKERS', 'ALL_MECHS', 'ALL_UPGRADES']\n",
      "Stars:  ['MAX_POWER', 'MAX_POPULARITY', 'ALL_WORKERS', 'ALL_MECHS', 'ALL_UPGRADES']\n",
      "Stars:  ['MAX_POWER', 'MAX_POPULARITY', 'ALL_WORKERS', 'ALL_MECHS', 'ALL_UPGRADES']\n",
      "Stars:  ['MAX_POWER', 'MAX_POPULARITY', 'ALL_WORKERS', 'ALL_MECHS', 'ALL_UPGRADES']\n"
     ]
    },
    {
     "ename": "KeyboardInterrupt",
     "evalue": "",
     "output_type": "error",
     "traceback": [
      "\u001b[0;31m---------------------------------------------------------------------------\u001b[0m",
      "\u001b[0;31mKeyboardInterrupt\u001b[0m                         Traceback (most recent call last)",
      "\u001b[0;32m<ipython-input-11-0e0d976bcc68>\u001b[0m in \u001b[0;36m<module>\u001b[0;34m()\u001b[0m\n\u001b[1;32m     13\u001b[0m     \u001b[0mperform_seconday_action_if_available\u001b[0m\u001b[0;34m(\u001b[0m\u001b[0;34m)\u001b[0m\u001b[0;34m\u001b[0m\u001b[0m\n\u001b[1;32m     14\u001b[0m \u001b[0;34m\u001b[0m\u001b[0m\n\u001b[0;32m---> 15\u001b[0;31m     \u001b[0mperform_action_matching\u001b[0m\u001b[0;34m(\u001b[0m\u001b[0;34m'MOVE'\u001b[0m\u001b[0;34m,\u001b[0m \u001b[0;34m'GainCoin'\u001b[0m\u001b[0;34m)\u001b[0m\u001b[0;34m\u001b[0m\u001b[0m\n\u001b[0m\u001b[1;32m     16\u001b[0m     \u001b[0mperform_seconday_action_if_available\u001b[0m\u001b[0;34m(\u001b[0m\u001b[0;34m)\u001b[0m\u001b[0;34m\u001b[0m\u001b[0m\n\u001b[1;32m     17\u001b[0m \u001b[0;34m\u001b[0m\u001b[0m\n",
      "\u001b[0;32m<ipython-input-2-ecd9f4e49d8d>\u001b[0m in \u001b[0;36mperform_action_matching\u001b[0;34m(action, regex)\u001b[0m\n\u001b[1;32m      1\u001b[0m \u001b[0;32mdef\u001b[0m \u001b[0mperform_action_matching\u001b[0m\u001b[0;34m(\u001b[0m\u001b[0maction\u001b[0m\u001b[0;34m,\u001b[0m \u001b[0mregex\u001b[0m\u001b[0;34m)\u001b[0m\u001b[0;34m:\u001b[0m\u001b[0;34m\u001b[0m\u001b[0m\n\u001b[0;32m----> 2\u001b[0;31m     \u001b[0mavailable_actions\u001b[0m \u001b[0;34m=\u001b[0m \u001b[0mclient\u001b[0m\u001b[0;34m.\u001b[0m\u001b[0mget_available_actions\u001b[0m\u001b[0;34m(\u001b[0m\u001b[0;34m)\u001b[0m\u001b[0;34m\u001b[0m\u001b[0m\n\u001b[0m\u001b[1;32m      3\u001b[0m     \u001b[0;32mif\u001b[0m \u001b[0maction\u001b[0m \u001b[0;32min\u001b[0m \u001b[0mavailable_actions\u001b[0m\u001b[0;34m:\u001b[0m\u001b[0;34m\u001b[0m\u001b[0m\n\u001b[1;32m      4\u001b[0m         \u001b[0moption_list\u001b[0m \u001b[0;34m=\u001b[0m \u001b[0mclient\u001b[0m\u001b[0;34m.\u001b[0m\u001b[0mget_available_options\u001b[0m\u001b[0;34m(\u001b[0m\u001b[0maction\u001b[0m\u001b[0;34m)\u001b[0m\u001b[0;34m\u001b[0m\u001b[0m\n\u001b[1;32m      5\u001b[0m         \u001b[0mindex_to_play\u001b[0m \u001b[0;34m=\u001b[0m \u001b[0;32mNone\u001b[0m\u001b[0;34m\u001b[0m\u001b[0m\n",
      "\u001b[0;32m~/kosa/python_client/kosa/client.py\u001b[0m in \u001b[0;36mget_available_actions\u001b[0;34m(self)\u001b[0m\n\u001b[1;32m     47\u001b[0m \u001b[0;34m\u001b[0m\u001b[0m\n\u001b[1;32m     48\u001b[0m     \u001b[0;32mdef\u001b[0m \u001b[0mget_available_actions\u001b[0m\u001b[0;34m(\u001b[0m\u001b[0mself\u001b[0m\u001b[0;34m)\u001b[0m\u001b[0;34m:\u001b[0m\u001b[0;34m\u001b[0m\u001b[0m\n\u001b[0;32m---> 49\u001b[0;31m         \u001b[0mresult\u001b[0m \u001b[0;34m=\u001b[0m \u001b[0mself\u001b[0m\u001b[0;34m.\u001b[0m\u001b[0mperform_command\u001b[0m\u001b[0;34m(\u001b[0m\u001b[0;34m'ACTION {} {}'\u001b[0m\u001b[0;34m.\u001b[0m\u001b[0mformat\u001b[0m\u001b[0;34m(\u001b[0m\u001b[0mself\u001b[0m\u001b[0;34m.\u001b[0m\u001b[0mgame_id\u001b[0m\u001b[0;34m,\u001b[0m \u001b[0mself\u001b[0m\u001b[0;34m.\u001b[0m\u001b[0mplayer_id\u001b[0m\u001b[0;34m)\u001b[0m\u001b[0;34m)\u001b[0m\u001b[0;34m.\u001b[0m\u001b[0mstrip\u001b[0m\u001b[0;34m(\u001b[0m\u001b[0;34m)\u001b[0m\u001b[0;34m\u001b[0m\u001b[0m\n\u001b[0m\u001b[1;32m     50\u001b[0m         \u001b[0;32mreturn\u001b[0m \u001b[0mjson\u001b[0m\u001b[0;34m.\u001b[0m\u001b[0mloads\u001b[0m\u001b[0;34m(\u001b[0m\u001b[0mresult\u001b[0m\u001b[0;34m)\u001b[0m\u001b[0;34m\u001b[0m\u001b[0m\n\u001b[1;32m     51\u001b[0m \u001b[0;34m\u001b[0m\u001b[0m\n",
      "\u001b[0;32m~/kosa/python_client/kosa/base_client.py\u001b[0m in \u001b[0;36mperform_command\u001b[0;34m(self, command, expect_output)\u001b[0m\n\u001b[1;32m     39\u001b[0m         \u001b[0mself\u001b[0m\u001b[0;34m.\u001b[0m\u001b[0msocket\u001b[0m\u001b[0;34m.\u001b[0m\u001b[0msend\u001b[0m\u001b[0;34m(\u001b[0m\u001b[0mcommand\u001b[0m\u001b[0;34m.\u001b[0m\u001b[0mencode\u001b[0m\u001b[0;34m(\u001b[0m\u001b[0;34m'UTF-8'\u001b[0m\u001b[0;34m)\u001b[0m\u001b[0;34m)\u001b[0m\u001b[0;34m\u001b[0m\u001b[0m\n\u001b[1;32m     40\u001b[0m         \u001b[0;32mif\u001b[0m \u001b[0mexpect_output\u001b[0m\u001b[0;34m:\u001b[0m\u001b[0;34m\u001b[0m\u001b[0m\n\u001b[0;32m---> 41\u001b[0;31m             \u001b[0;32mreturn\u001b[0m \u001b[0mself\u001b[0m\u001b[0;34m.\u001b[0m\u001b[0mget_msg\u001b[0m\u001b[0;34m(\u001b[0m\u001b[0;34m)\u001b[0m\u001b[0;34m\u001b[0m\u001b[0m\n\u001b[0m",
      "\u001b[0;32m~/kosa/python_client/kosa/base_client.py\u001b[0m in \u001b[0;36mget_msg\u001b[0;34m(self)\u001b[0m\n\u001b[1;32m     29\u001b[0m         \u001b[0mm\u001b[0m \u001b[0;34m=\u001b[0m \u001b[0;34m''\u001b[0m\u001b[0;34m\u001b[0m\u001b[0m\n\u001b[1;32m     30\u001b[0m         \u001b[0;32mwhile\u001b[0m \u001b[0;32mTrue\u001b[0m\u001b[0;34m:\u001b[0m\u001b[0;34m\u001b[0m\u001b[0m\n\u001b[0;32m---> 31\u001b[0;31m             \u001b[0mmm\u001b[0m \u001b[0;34m=\u001b[0m \u001b[0mself\u001b[0m\u001b[0;34m.\u001b[0m\u001b[0mget_message_non_blocking\u001b[0m\u001b[0;34m(\u001b[0m\u001b[0;34m)\u001b[0m\u001b[0;34m\u001b[0m\u001b[0m\n\u001b[0m\u001b[1;32m     32\u001b[0m             \u001b[0mm\u001b[0m \u001b[0;34m=\u001b[0m \u001b[0mm\u001b[0m \u001b[0;34m+\u001b[0m \u001b[0;34m(\u001b[0m\u001b[0mmm\u001b[0m \u001b[0;32mor\u001b[0m \u001b[0;34m''\u001b[0m\u001b[0;34m)\u001b[0m\u001b[0;34m\u001b[0m\u001b[0m\n\u001b[1;32m     33\u001b[0m             \u001b[0;32mif\u001b[0m \u001b[0mlen\u001b[0m\u001b[0;34m(\u001b[0m\u001b[0mre\u001b[0m\u001b[0;34m.\u001b[0m\u001b[0mcompile\u001b[0m\u001b[0;34m(\u001b[0m\u001b[0;34m'\\n\\n'\u001b[0m\u001b[0;34m)\u001b[0m\u001b[0;34m.\u001b[0m\u001b[0mfindall\u001b[0m\u001b[0;34m(\u001b[0m\u001b[0mm\u001b[0m\u001b[0;34m)\u001b[0m\u001b[0;34m)\u001b[0m \u001b[0;34m>\u001b[0m \u001b[0;36m0\u001b[0m\u001b[0;34m:\u001b[0m\u001b[0;34m\u001b[0m\u001b[0m\n",
      "\u001b[0;32m~/kosa/python_client/kosa/base_client.py\u001b[0m in \u001b[0;36mget_message_non_blocking\u001b[0;34m(self)\u001b[0m\n\u001b[1;32m     22\u001b[0m     \u001b[0;32mdef\u001b[0m \u001b[0mget_message_non_blocking\u001b[0m\u001b[0;34m(\u001b[0m\u001b[0mself\u001b[0m\u001b[0;34m)\u001b[0m\u001b[0;34m:\u001b[0m\u001b[0;34m\u001b[0m\u001b[0m\n\u001b[1;32m     23\u001b[0m         \u001b[0mself\u001b[0m\u001b[0;34m.\u001b[0m\u001b[0msocket\u001b[0m\u001b[0;34m.\u001b[0m\u001b[0msetblocking\u001b[0m\u001b[0;34m(\u001b[0m\u001b[0;32mFalse\u001b[0m\u001b[0;34m)\u001b[0m\u001b[0;34m\u001b[0m\u001b[0m\n\u001b[0;32m---> 24\u001b[0;31m         \u001b[0mmessage\u001b[0m \u001b[0;34m=\u001b[0m \u001b[0mself\u001b[0m\u001b[0;34m.\u001b[0m\u001b[0mget_message\u001b[0m\u001b[0;34m(\u001b[0m\u001b[0;34m)\u001b[0m\u001b[0;34m\u001b[0m\u001b[0m\n\u001b[0m\u001b[1;32m     25\u001b[0m         \u001b[0mself\u001b[0m\u001b[0;34m.\u001b[0m\u001b[0msocket\u001b[0m\u001b[0;34m.\u001b[0m\u001b[0msetblocking\u001b[0m\u001b[0;34m(\u001b[0m\u001b[0;32mTrue\u001b[0m\u001b[0;34m)\u001b[0m\u001b[0;34m\u001b[0m\u001b[0m\n\u001b[1;32m     26\u001b[0m         \u001b[0;32mreturn\u001b[0m \u001b[0mmessage\u001b[0m\u001b[0;34m\u001b[0m\u001b[0m\n",
      "\u001b[0;32m~/kosa/python_client/kosa/base_client.py\u001b[0m in \u001b[0;36mget_message\u001b[0;34m(self)\u001b[0m\n\u001b[1;32m     18\u001b[0m         \u001b[0;32mif\u001b[0m \u001b[0mmessage\u001b[0m \u001b[0;32mis\u001b[0m \u001b[0;32mNone\u001b[0m\u001b[0;34m:\u001b[0m\u001b[0;34m\u001b[0m\u001b[0m\n\u001b[1;32m     19\u001b[0m             \u001b[0;32mreturn\u001b[0m\u001b[0;34m\u001b[0m\u001b[0m\n\u001b[0;32m---> 20\u001b[0;31m         \u001b[0;32mreturn\u001b[0m \u001b[0mmessage\u001b[0m\u001b[0;34m.\u001b[0m\u001b[0mdecode\u001b[0m\u001b[0;34m(\u001b[0m\u001b[0;34m'utf-8'\u001b[0m\u001b[0;34m)\u001b[0m\u001b[0;34m\u001b[0m\u001b[0m\n\u001b[0m\u001b[1;32m     21\u001b[0m \u001b[0;34m\u001b[0m\u001b[0m\n\u001b[1;32m     22\u001b[0m     \u001b[0;32mdef\u001b[0m \u001b[0mget_message_non_blocking\u001b[0m\u001b[0;34m(\u001b[0m\u001b[0mself\u001b[0m\u001b[0;34m)\u001b[0m\u001b[0;34m:\u001b[0m\u001b[0;34m\u001b[0m\u001b[0m\n",
      "\u001b[0;31mKeyboardInterrupt\u001b[0m: "
     ]
    }
   ],
   "source": [
    "def perform_seconday_action_if_available():\n",
    "    available_actions = client.get_available_actions()\n",
    "    for action in ['ENLIST', 'DEPLOY', 'BUILD', 'UPGRADE']:\n",
    "        if action in available_actions:\n",
    "            number = len(client.get_available_options(action))\n",
    "            client.perform_action(action, random.randint(0, number))\n",
    "            \n",
    "for _ in range(30):\n",
    "    perform_action_matching('BOLSTER', '')\n",
    "    perform_seconday_action_if_available()\n",
    "    \n",
    "    perform_action_matching('TRADE', 'Popularity')\n",
    "    perform_seconday_action_if_available()\n",
    "        \n",
    "    perform_action_matching('MOVE', 'GainCoin')\n",
    "    perform_seconday_action_if_available()\n",
    "\n",
    "    perform_action_matching('PRODUCE', random.choice(['MOUNTAIN', 'FOREST', 'TUNDRA']))\n",
    "    perform_seconday_action_if_available()\n",
    "    perform_action_matching('TRADE', 'OIL')\n",
    "    perform_seconday_action_if_available()\n",
    "    \n",
    "    print_stars()"
   ]
  }
 ],
 "metadata": {
  "kernelspec": {
   "display_name": "Python 3",
   "language": "python",
   "name": "python3"
  },
  "language_info": {
   "codemirror_mode": {
    "name": "ipython",
    "version": 3
   },
   "file_extension": ".py",
   "mimetype": "text/x-python",
   "name": "python",
   "nbconvert_exporter": "python",
   "pygments_lexer": "ipython3",
   "version": "3.5.2"
  }
 },
 "nbformat": 4,
 "nbformat_minor": 2
}

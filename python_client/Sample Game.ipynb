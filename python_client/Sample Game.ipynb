{
 "cells": [
  {
   "cell_type": "markdown",
   "metadata": {},
   "source": [
    "# Single Player Game Demonstration\n",
    "\n",
    "Scythe is a fantastic board game. If you are looking to get schooled, ask Helge for a game. The game takes place on a map, which looks like that\n",
    "\n",
    "![](map.png)\n",
    "\n",
    "We will be the green player, who starts with workers at `m1` and `f1`. For the single player game workers are important, we can ignore everything else. The last important thing are the available actions, which are described in the player mat fof rthe industrial player\n",
    "\n",
    "![](industrial.png)\n",
    "\n",
    "Finally some basic imports, and starting the game as the green industrial player."
   ]
  },
  {
   "cell_type": "code",
   "execution_count": 1,
   "metadata": {},
   "outputs": [
    {
     "name": "stdout",
     "output_type": "stream",
     "text": [
      "player_id  391b1ac1-ee84-4821-8134-2fd9528c7478\n",
      "joined game with id  037e3b8c-0111-49b7-9192-4a1c3675d099\n",
      "join OK\n",
      "start OK\n",
      "game id  037e3b8c-0111-49b7-9192-4a1c3675d099\n"
     ]
    }
   ],
   "source": [
    "import re\n",
    "import random\n",
    "from kosa import Client\n",
    "client = Client()\n",
    "\n",
    "client.join_a_game(color='green', player_mat='INDUSTRIAL')\n",
    "client.start()\n",
    "print('game id ', client.game_id)"
   ]
  },
  {
   "cell_type": "markdown",
   "metadata": {},
   "source": [
    "We now perform a mind blowing set of actions."
   ]
  },
  {
   "cell_type": "code",
   "execution_count": 2,
   "metadata": {},
   "outputs": [],
   "source": [
    "import json\n",
    "\n",
    "def perform_action_matching(action, regex):\n",
    "    available_actions = client.get_available_actions()\n",
    "    if action in available_actions:\n",
    "        option_list = client.get_available_options(action)\n",
    "        index_to_play = None\n",
    "        for idx, val in enumerate(option_list):\n",
    "            result = re.compile(regex).findall(json.dumps(val))\n",
    "            if len(result) > 0:\n",
    "                index_to_play = idx\n",
    "                break\n",
    "    \n",
    "        if index_to_play is not None:\n",
    "            client.perform_action(action, index_to_play)\n",
    "    \n",
    "for _ in range(16):\n",
    "    perform_action_matching('MOVE', 'GainCoin')\n",
    "    perform_action_matching('TRADE', 'Popularity')\n",
    "    perform_action_matching('MOVE', 'GainCoin')\n",
    "    perform_action_matching('BOLSTER', 'BolsterPower')\n",
    "    perform_action_matching('PRODUCE', 'm1')\n",
    "    \n",
    "perform_action_matching('MOVE', 'GainCoin')\n",
    "perform_action_matching('TRADE', 'TradePopularity')\n",
    "perform_action_matching('MOVE', 'GainCoin')\n",
    "perform_action_matching('TRADE', 'TradePopularity')"
   ]
  },
  {
   "cell_type": "markdown",
   "metadata": {},
   "source": [
    "We have now obtained 2 stars, which we can check as follows:"
   ]
  },
  {
   "cell_type": "code",
   "execution_count": 3,
   "metadata": {},
   "outputs": [
    {
     "name": "stdout",
     "output_type": "stream",
     "text": [
      "Stars:  ['MAX_POWER', 'MAX_POPULARITY']\n"
     ]
    }
   ],
   "source": [
    "def get_star_events():\n",
    "    game = json.loads(client.export_game())\n",
    "    return [g for g in game if g['type'] == 'StarEvent']\n",
    "\n",
    "def print_stars():\n",
    "    print(\"Stars: \" , [s['star'] for s in get_star_events()])\n",
    "    \n",
    "print_stars()"
   ]
  },
  {
   "cell_type": "markdown",
   "metadata": {},
   "source": [
    "# Moving around\n",
    "The following performs some moves to place workers."
   ]
  },
  {
   "cell_type": "code",
   "execution_count": 4,
   "metadata": {},
   "outputs": [],
   "source": [
    "perform_action_matching('MOVE','WORKER_2.*v1')\n",
    "perform_action_matching('PRODUCE','VILLAGE')\n",
    "perform_action_matching('MOVE', 'GainCoin')\n",
    "perform_action_matching('PRODUCE','VILLAGE')"
   ]
  },
  {
   "cell_type": "code",
   "execution_count": 5,
   "metadata": {},
   "outputs": [],
   "source": [
    "perform_action_matching('MOVE', 'WORKER_1.*f1.*FARM')\n",
    "perform_action_matching('PRODUCE','VILLAGE')\n",
    "perform_action_matching('MOVE', 'WORKER_1.*t2.*TUNDRA')\n",
    "perform_action_matching('PRODUCE','VILLAGE')\n",
    "perform_action_matching('MOVE', 'WORKER_1.*m3.*MOUNTAIN')\n",
    "perform_action_matching('PRODUCE','VILLAGE')\n",
    "perform_action_matching('MOVE', 'WORKER_1.*w3.*FOREST')\n",
    "perform_action_matching('PRODUCE','VILLAGE')"
   ]
  },
  {
   "cell_type": "code",
   "execution_count": 6,
   "metadata": {},
   "outputs": [
    {
     "name": "stdout",
     "output_type": "stream",
     "text": [
      "Stars:  ['MAX_POWER', 'MAX_POPULARITY', 'ALL_WORKERS']\n"
     ]
    }
   ],
   "source": [
    "print_stars()"
   ]
  },
  {
   "cell_type": "code",
   "execution_count": 7,
   "metadata": {},
   "outputs": [],
   "source": [
    "perform_action_matching('MOVE', 'WORKER_7.*f1.*FARM')\n",
    "perform_action_matching('PRODUCE','TUNDRA')\n",
    "perform_action_matching('MOVE', 'WORKER_7.*t2.*TUNDRA')\n",
    "perform_action_matching('PRODUCE','TUNDRA')\n",
    "perform_action_matching('MOVE', 'WORKER_7.*m3.*MOUNYAIN')\n",
    "perform_action_matching('PRODUCE','MOUNTAIN')\n",
    "perform_action_matching('MOVE', 'WORKER_7.*v5.*VILLAGE')\n",
    "perform_action_matching('PRODUCE','MOUNTAIN')"
   ]
  },
  {
   "cell_type": "code",
   "execution_count": 8,
   "metadata": {},
   "outputs": [],
   "source": [
    "perform_action_matching('MOVE', 'WORKER_4.*f1.*FARM')\n",
    "perform_action_matching('PRODUCE','FOREST')\n",
    "perform_action_matching('MOVE', 'WORKER_4.*m1.*MOUNTAIN')\n",
    "perform_action_matching('PRODUCE','MOUNTAIN')"
   ]
  },
  {
   "cell_type": "code",
   "execution_count": 9,
   "metadata": {},
   "outputs": [],
   "source": [
    "perform_action_matching('MOVE', 'WORKER_3.*f1.*FARM')\n",
    "perform_action_matching('PRODUCE','FOREST')\n",
    "perform_action_matching('MOVE', 'WORKER_3.*t2.*TUNDRA')\n",
    "perform_action_matching('PRODUCE','FOREST')"
   ]
  },
  {
   "cell_type": "code",
   "execution_count": 10,
   "metadata": {},
   "outputs": [],
   "source": [
    "perform_action_matching('MOVE', 'WORKER_8.*f1.*FARM')\n",
    "perform_action_matching('PRODUCE','FOREST')\n",
    "perform_action_matching('MOVE', 'WORKER_8.*t2.*TUNDRA')\n",
    "perform_action_matching('PRODUCE','TUNDRA')\n",
    "perform_action_matching('MOVE', 'WORKER_8.*m3.*MOUNTAIN')\n",
    "perform_action_matching('PRODUCE','TUNDRA')"
   ]
  },
  {
   "cell_type": "markdown",
   "metadata": {},
   "source": [
    "# Perform secondary action to gain more stars\n",
    "\n",
    "Currently the game finished event is not captured correctly. So, we get an exception. One can see the game finishing, by watching `nc localhost 1337`."
   ]
  },
  {
   "cell_type": "code",
   "execution_count": 11,
   "metadata": {},
   "outputs": [
    {
     "name": "stdout",
     "output_type": "stream",
     "text": [
      "Stars:  ['MAX_POWER', 'MAX_POPULARITY', 'ALL_WORKERS']\n",
      "Stars:  ['MAX_POWER', 'MAX_POPULARITY', 'ALL_WORKERS']\n",
      "Stars:  ['MAX_POWER', 'MAX_POPULARITY', 'ALL_WORKERS']\n",
      "Stars:  ['MAX_POWER', 'MAX_POPULARITY', 'ALL_WORKERS']\n",
      "Stars:  ['MAX_POWER', 'MAX_POPULARITY', 'ALL_WORKERS', 'ALL_MECHS']\n",
      "Stars:  ['MAX_POWER', 'MAX_POPULARITY', 'ALL_WORKERS', 'ALL_MECHS']\n",
      "Stars:  ['MAX_POWER', 'MAX_POPULARITY', 'ALL_WORKERS', 'ALL_MECHS']\n",
      "Stars:  ['MAX_POWER', 'MAX_POPULARITY', 'ALL_WORKERS', 'ALL_MECHS']\n",
      "Stars:  ['MAX_POWER', 'MAX_POPULARITY', 'ALL_WORKERS', 'ALL_MECHS']\n",
      "Stars:  ['MAX_POWER', 'MAX_POPULARITY', 'ALL_WORKERS', 'ALL_MECHS']\n",
      "Stars:  ['MAX_POWER', 'MAX_POPULARITY', 'ALL_WORKERS', 'ALL_MECHS']\n",
      "Stars:  ['MAX_POWER', 'MAX_POPULARITY', 'ALL_WORKERS', 'ALL_MECHS']\n",
      "Stars:  ['MAX_POWER', 'MAX_POPULARITY', 'ALL_WORKERS', 'ALL_MECHS']\n",
      "Stars:  ['MAX_POWER', 'MAX_POPULARITY', 'ALL_WORKERS', 'ALL_MECHS', 'ALL_BUILDINGS']\n",
      "Stars:  ['MAX_POWER', 'MAX_POPULARITY', 'ALL_WORKERS', 'ALL_MECHS', 'ALL_BUILDINGS']\n"
     ]
    },
    {
     "ename": "TypeError",
     "evalue": "exceptions must derive from BaseException",
     "output_type": "error",
     "traceback": [
      "\u001b[0;31m---------------------------------------------------------------------------\u001b[0m",
      "\u001b[0;31mTypeError\u001b[0m                                 Traceback (most recent call last)",
      "\u001b[0;32m<ipython-input-11-0e0d976bcc68>\u001b[0m in \u001b[0;36m<module>\u001b[0;34m()\u001b[0m\n\u001b[1;32m     19\u001b[0m     \u001b[0mperform_seconday_action_if_available\u001b[0m\u001b[0;34m(\u001b[0m\u001b[0;34m)\u001b[0m\u001b[0;34m\u001b[0m\u001b[0m\n\u001b[1;32m     20\u001b[0m     \u001b[0mperform_action_matching\u001b[0m\u001b[0;34m(\u001b[0m\u001b[0;34m'TRADE'\u001b[0m\u001b[0;34m,\u001b[0m \u001b[0;34m'OIL'\u001b[0m\u001b[0;34m)\u001b[0m\u001b[0;34m\u001b[0m\u001b[0m\n\u001b[0;32m---> 21\u001b[0;31m     \u001b[0mperform_seconday_action_if_available\u001b[0m\u001b[0;34m(\u001b[0m\u001b[0;34m)\u001b[0m\u001b[0;34m\u001b[0m\u001b[0m\n\u001b[0m\u001b[1;32m     22\u001b[0m \u001b[0;34m\u001b[0m\u001b[0m\n\u001b[1;32m     23\u001b[0m     \u001b[0mprint_stars\u001b[0m\u001b[0;34m(\u001b[0m\u001b[0;34m)\u001b[0m\u001b[0;34m\u001b[0m\u001b[0m\n",
      "\u001b[0;32m<ipython-input-11-0e0d976bcc68>\u001b[0m in \u001b[0;36mperform_seconday_action_if_available\u001b[0;34m()\u001b[0m\n\u001b[1;32m      4\u001b[0m         \u001b[0;32mif\u001b[0m \u001b[0maction\u001b[0m \u001b[0;32min\u001b[0m \u001b[0mavailable_actions\u001b[0m\u001b[0;34m:\u001b[0m\u001b[0;34m\u001b[0m\u001b[0m\n\u001b[1;32m      5\u001b[0m             \u001b[0mnumber\u001b[0m \u001b[0;34m=\u001b[0m \u001b[0mlen\u001b[0m\u001b[0;34m(\u001b[0m\u001b[0mclient\u001b[0m\u001b[0;34m.\u001b[0m\u001b[0mget_available_options\u001b[0m\u001b[0;34m(\u001b[0m\u001b[0maction\u001b[0m\u001b[0;34m)\u001b[0m\u001b[0;34m)\u001b[0m\u001b[0;34m\u001b[0m\u001b[0m\n\u001b[0;32m----> 6\u001b[0;31m             \u001b[0mclient\u001b[0m\u001b[0;34m.\u001b[0m\u001b[0mperform_action\u001b[0m\u001b[0;34m(\u001b[0m\u001b[0maction\u001b[0m\u001b[0;34m,\u001b[0m \u001b[0mrandom\u001b[0m\u001b[0;34m.\u001b[0m\u001b[0mrandint\u001b[0m\u001b[0;34m(\u001b[0m\u001b[0;36m0\u001b[0m\u001b[0;34m,\u001b[0m \u001b[0mnumber\u001b[0m\u001b[0;34m)\u001b[0m\u001b[0;34m)\u001b[0m\u001b[0;34m\u001b[0m\u001b[0m\n\u001b[0m\u001b[1;32m      7\u001b[0m \u001b[0;34m\u001b[0m\u001b[0m\n\u001b[1;32m      8\u001b[0m \u001b[0;32mfor\u001b[0m \u001b[0m_\u001b[0m \u001b[0;32min\u001b[0m \u001b[0mrange\u001b[0m\u001b[0;34m(\u001b[0m\u001b[0;36m30\u001b[0m\u001b[0;34m)\u001b[0m\u001b[0;34m:\u001b[0m\u001b[0;34m\u001b[0m\u001b[0m\n",
      "\u001b[0;32m~/tng/boardgame/tng_repo/kosa/python_client/kosa/client.py\u001b[0m in \u001b[0;36mperform_action\u001b[0;34m(self, action, option)\u001b[0m\n\u001b[1;32m     61\u001b[0m \u001b[0;34m\u001b[0m\u001b[0m\n\u001b[1;32m     62\u001b[0m     \u001b[0;32mdef\u001b[0m \u001b[0mperform_action\u001b[0m\u001b[0;34m(\u001b[0m\u001b[0mself\u001b[0m\u001b[0;34m,\u001b[0m \u001b[0maction\u001b[0m\u001b[0;34m,\u001b[0m \u001b[0moption\u001b[0m\u001b[0;34m)\u001b[0m\u001b[0;34m:\u001b[0m\u001b[0;34m\u001b[0m\u001b[0m\n\u001b[0;32m---> 63\u001b[0;31m         \u001b[0mself\u001b[0m\u001b[0;34m.\u001b[0m\u001b[0mpost\u001b[0m\u001b[0;34m(\u001b[0m\u001b[0;34m'OPTION'\u001b[0m\u001b[0;34m,\u001b[0m \u001b[0;34m{\u001b[0m\u001b[0;34m'gameId'\u001b[0m\u001b[0;34m:\u001b[0m \u001b[0mself\u001b[0m\u001b[0;34m.\u001b[0m\u001b[0mgame_id\u001b[0m\u001b[0;34m,\u001b[0m \u001b[0;34m'playerId'\u001b[0m\u001b[0;34m:\u001b[0m \u001b[0mself\u001b[0m\u001b[0;34m.\u001b[0m\u001b[0mplayer_id\u001b[0m\u001b[0;34m,\u001b[0m \u001b[0;34m'option'\u001b[0m\u001b[0;34m:\u001b[0m \u001b[0moption\u001b[0m\u001b[0;34m}\u001b[0m\u001b[0;34m)\u001b[0m\u001b[0;34m\u001b[0m\u001b[0m\n\u001b[0m\u001b[1;32m     64\u001b[0m \u001b[0;34m\u001b[0m\u001b[0m\n\u001b[1;32m     65\u001b[0m     \u001b[0;32mdef\u001b[0m \u001b[0mexport_game\u001b[0m\u001b[0;34m(\u001b[0m\u001b[0mself\u001b[0m\u001b[0;34m)\u001b[0m\u001b[0;34m:\u001b[0m\u001b[0;34m\u001b[0m\u001b[0m\n",
      "\u001b[0;32m~/tng/boardgame/tng_repo/kosa/python_client/kosa/base_client.py\u001b[0m in \u001b[0;36mpost\u001b[0;34m(self, command, attributes)\u001b[0m\n\u001b[1;32m     16\u001b[0m \u001b[0;34m\u001b[0m\u001b[0m\n\u001b[1;32m     17\u001b[0m         \u001b[0;32mif\u001b[0m \u001b[0mres\u001b[0m\u001b[0;34m.\u001b[0m\u001b[0mstatus_code\u001b[0m \u001b[0;34m==\u001b[0m \u001b[0;36m418\u001b[0m\u001b[0;34m:\u001b[0m\u001b[0;34m\u001b[0m\u001b[0m\n\u001b[0;32m---> 18\u001b[0;31m             \u001b[0;32mraise\u001b[0m\u001b[0;34m(\u001b[0m\u001b[0;34m'game over'\u001b[0m\u001b[0;34m)\u001b[0m\u001b[0;34m\u001b[0m\u001b[0m\n\u001b[0m\u001b[1;32m     19\u001b[0m         \u001b[0;32mreturn\u001b[0m \u001b[0mres\u001b[0m\u001b[0;34m.\u001b[0m\u001b[0mjson\u001b[0m\u001b[0;34m(\u001b[0m\u001b[0;34m)\u001b[0m\u001b[0;34m\u001b[0m\u001b[0m\n\u001b[1;32m     20\u001b[0m \u001b[0;34m\u001b[0m\u001b[0m\n",
      "\u001b[0;31mTypeError\u001b[0m: exceptions must derive from BaseException"
     ]
    }
   ],
   "source": [
    "def perform_seconday_action_if_available():\n",
    "    available_actions = client.get_available_actions()\n",
    "    for action in ['ENLIST', 'DEPLOY', 'BUILD', 'UPGRADE']:\n",
    "        if action in available_actions:\n",
    "            number = len(client.get_available_options(action))\n",
    "            client.perform_action(action, random.randint(0, number))\n",
    "            \n",
    "for _ in range(30):\n",
    "    perform_action_matching('BOLSTER', '')\n",
    "    perform_seconday_action_if_available()\n",
    "    \n",
    "    perform_action_matching('TRADE', 'Popularity')\n",
    "    perform_seconday_action_if_available()\n",
    "        \n",
    "    perform_action_matching('MOVE', 'GainCoin')\n",
    "    perform_seconday_action_if_available()\n",
    "\n",
    "    perform_action_matching('PRODUCE', random.choice(['MOUNTAIN', 'FOREST', 'TUNDRA']))\n",
    "    perform_seconday_action_if_available()\n",
    "    perform_action_matching('TRADE', 'OIL')\n",
    "    perform_seconday_action_if_available()\n",
    "    \n",
    "    print_stars()"
   ]
  }
 ],
 "metadata": {
  "kernelspec": {
   "display_name": "Python 3",
   "language": "python",
   "name": "python3"
  },
  "language_info": {
   "codemirror_mode": {
    "name": "ipython",
    "version": 3
   },
   "file_extension": ".py",
   "mimetype": "text/x-python",
   "name": "python",
   "nbconvert_exporter": "python",
   "pygments_lexer": "ipython3",
   "version": "3.5.2"
  }
 },
 "nbformat": 4,
 "nbformat_minor": 2
}

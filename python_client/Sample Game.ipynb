{
 "cells": [
  {
   "cell_type": "markdown",
   "metadata": {},
   "source": [
    "# Single Player Game Demonstration\n",
    "\n",
    "Scythe is a fantastic board game. If you are looking to get schooled, ask Helge for a game. The game takes place on a map, which looks like that\n",
    "\n",
    "![](map.png)\n",
    "\n",
    "We will be the green player, who starts with workers at `m1` and `f1`. For the single player game workers are important, we can ignore everything else. The last important thing are the available actions, which are described in the player mat fof rthe industrial player\n",
    "\n",
    "![](industrial.png)\n",
    "\n",
    "Finally some basic imports, and starting the game as the green industrial player."
   ]
  },
  {
   "cell_type": "code",
   "execution_count": 2,
   "metadata": {},
   "outputs": [
    {
     "name": "stdout",
     "output_type": "stream",
     "text": [
      "player_id  e7281ae3-948c-4332-b4c0-6010a7379cf9\n",
      "joined game with id  fcacd930-731c-4053-a508-acfc98d93179\n",
      "join OK\n",
      "start OK\n",
      "game id  fcacd930-731c-4053-a508-acfc98d93179\n"
     ]
    }
   ],
   "source": [
    "import re\n",
    "import random\n",
    "from kosa import Client\n",
    "client = Client()\n",
    "\n",
    "client.join_a_game(color='green', player_mat='INDUSTRIAL')\n",
    "client.start()\n",
    "print('game id ', client.game_id)"
   ]
  },
  {
   "cell_type": "markdown",
   "metadata": {},
   "source": [
    "We now perform a mind blowing set of actions."
   ]
  },
  {
   "cell_type": "code",
   "execution_count": 7,
   "metadata": {},
   "outputs": [],
   "source": [
    "import json\n",
    "\n",
    "def perform_action_matching(action, regex):\n",
    "    available_actions = client.get_available_actions()\n",
    "    if action in available_actions:\n",
    "        option_list = client.get_available_options(action)\n",
    "        index_to_play = None\n",
    "        for idx, val in enumerate(option_list):\n",
    "            result = re.compile(regex).findall(json.dumps(val))\n",
    "            if len(result) > 0:\n",
    "                index_to_play = idx\n",
    "                break\n",
    "    \n",
    "        if index_to_play is not None:\n",
    "            client.perform_action(action, index_to_play)\n",
    "    \n",
    "for _ in range(16):\n",
    "    perform_action_matching('MOVE', 'GainCoin')\n",
    "    perform_action_matching('TRADE', 'Popularity')\n",
    "    perform_action_matching('MOVE', 'GainCoin')\n",
    "    perform_action_matching('BOLSTER', 'BolsterPower')\n",
    "    perform_action_matching('PRODUCE', 'm1')\n",
    "    \n",
    "perform_action_matching('MOVE', 'GainCoin')\n",
    "perform_action_matching('TRADE', 'TradePopularity')\n",
    "perform_action_matching('MOVE', 'GainCoin')\n",
    "perform_action_matching('TRADE', 'TradePopularity')"
   ]
  },
  {
   "cell_type": "markdown",
   "metadata": {},
   "source": [
    "We have now obtained 2 stars, which we can check as follows:"
   ]
  },
  {
   "cell_type": "code",
   "execution_count": 12,
   "metadata": {},
   "outputs": [
    {
     "name": "stdout",
     "output_type": "stream",
     "text": [
      "Stars:  ['MAX_POWER', 'MAX_POPULARITY']\n"
     ]
    }
   ],
   "source": [
    "def get_star_events():\n",
    "    game = json.loads(client.export_game())\n",
    "    return [g for g in game if g['type'] == 'StarEvent']\n",
    "\n",
    "def print_stars():\n",
    "    print(\"Stars: \" , [s['star'] for s in get_star_events()])\n",
    "    \n",
    "print_stars()"
   ]
  },
  {
   "cell_type": "markdown",
   "metadata": {},
   "source": [
    "# Moving around\n",
    "The following performs some moves to place workers."
   ]
  },
  {
   "cell_type": "code",
   "execution_count": 13,
   "metadata": {},
   "outputs": [],
   "source": [
    "perform_action_matching('MOVE','WORKER_2.*v1.*VILLAGE')\n",
    "perform_action_matching('PRODUCE','VILLAGE')\n",
    "perform_action_matching('MOVE', 'GainCoin')\n",
    "perform_action_matching('PRODUCE','VILLAGE')"
   ]
  },
  {
   "cell_type": "code",
   "execution_count": 14,
   "metadata": {},
   "outputs": [],
   "source": [
    "perform_action_matching('MOVE', 'WORKER_1.*f1.*FARM')\n",
    "perform_action_matching('PRODUCE','VILLAGE')\n",
    "perform_action_matching('MOVE', 'WORKER_1.*t2.*TUNDRA')\n",
    "perform_action_matching('PRODUCE','VILLAGE')\n",
    "perform_action_matching('MOVE', 'WORKER_1.*m3.*MOUNTAIN')\n",
    "perform_action_matching('PRODUCE','VILLAGE')\n",
    "perform_action_matching('MOVE', 'WORKER_1.*w3.*FOREST')\n",
    "perform_action_matching('PRODUCE','VILLAGE')"
   ]
  },
  {
   "cell_type": "code",
   "execution_count": 15,
   "metadata": {},
   "outputs": [
    {
     "name": "stdout",
     "output_type": "stream",
     "text": [
      "Stars:  ['MAX_POWER', 'MAX_POPULARITY', 'ALL_WORKERS']\n"
     ]
    }
   ],
   "source": [
    "print_stars()"
   ]
  },
  {
   "cell_type": "code",
   "execution_count": 16,
   "metadata": {},
   "outputs": [],
   "source": [
    "perform_action_matching('MOVE', 'WORKER_7.*f1.*FARM')\n",
    "perform_action_matching('PRODUCE','TUNDRA')\n",
    "perform_action_matching('MOVE', 'WORKER_7.*t2.*TUNDRA')\n",
    "perform_action_matching('PRODUCE','TUNDRA')\n",
    "perform_action_matching('MOVE', 'WORKER_7.*m3.*MOUNYAIN')\n",
    "perform_action_matching('PRODUCE','MOUNTAIN')\n",
    "perform_action_matching('MOVE', 'WORKER_7.*v5.*VILLAGE')\n",
    "perform_action_matching('PRODUCE','MOUNTAIN')"
   ]
  },
  {
   "cell_type": "code",
   "execution_count": 17,
   "metadata": {},
   "outputs": [],
   "source": [
    "perform_action_matching('MOVE', 'WORKER_4.*f1.*FARM')\n",
    "perform_action_matching('PRODUCE','FOREST')\n",
    "perform_action_matching('MOVE', 'WORKER_4.*m1.*MOUNTAIN')\n",
    "perform_action_matching('PRODUCE','MOUNTAIN')"
   ]
  },
  {
   "cell_type": "code",
   "execution_count": 18,
   "metadata": {},
   "outputs": [],
   "source": [
    "perform_action_matching('MOVE', 'WORKER_3.*f1.*FARM')\n",
    "perform_action_matching('PRODUCE','FOREST')\n",
    "perform_action_matching('MOVE', 'WORKER_3.*t2.*TUNDRA')\n",
    "perform_action_matching('PRODUCE','FOREST')"
   ]
  },
  {
   "cell_type": "code",
   "execution_count": 19,
   "metadata": {},
   "outputs": [],
   "source": [
    "perform_action_matching('MOVE', 'WORKER_8.*f1.*FARM')\n",
    "perform_action_matching('PRODUCE','FOREST')\n",
    "perform_action_matching('MOVE', 'WORKER_8.*t2.*TUNDRA')\n",
    "perform_action_matching('PRODUCE','TUNDRA')\n",
    "perform_action_matching('MOVE', 'WORKER_8.*m3.*MOUNTAIN')\n",
    "perform_action_matching('PRODUCE','TUNDRA')"
   ]
  },
  {
   "cell_type": "markdown",
   "metadata": {},
   "source": [
    "# Perform secondary action to gain more stars\n",
    "\n",
    "Currently the game finished event is not captured correctly. So, we get an exception. One can see the game finishing, by watching `nc localhost 1337`."
   ]
  },
  {
   "cell_type": "code",
   "execution_count": 20,
   "metadata": {},
   "outputs": [
    {
     "name": "stdout",
     "output_type": "stream",
     "text": [
      "Stars:  ['MAX_POWER', 'MAX_POPULARITY', 'ALL_WORKERS']\n",
      "Stars:  ['MAX_POWER', 'MAX_POPULARITY', 'ALL_WORKERS']\n",
      "Stars:  ['MAX_POWER', 'MAX_POPULARITY', 'ALL_WORKERS']\n",
      "Stars:  ['MAX_POWER', 'MAX_POPULARITY', 'ALL_WORKERS']\n",
      "Stars:  ['MAX_POWER', 'MAX_POPULARITY', 'ALL_WORKERS']\n",
      "Stars:  ['MAX_POWER', 'MAX_POPULARITY', 'ALL_WORKERS']\n",
      "Stars:  ['MAX_POWER', 'MAX_POPULARITY', 'ALL_WORKERS', 'ALL_MECHS']\n",
      "Stars:  ['MAX_POWER', 'MAX_POPULARITY', 'ALL_WORKERS', 'ALL_MECHS']\n",
      "Stars:  ['MAX_POWER', 'MAX_POPULARITY', 'ALL_WORKERS', 'ALL_MECHS']\n",
      "Stars:  ['MAX_POWER', 'MAX_POPULARITY', 'ALL_WORKERS', 'ALL_MECHS']\n",
      "Stars:  ['MAX_POWER', 'MAX_POPULARITY', 'ALL_WORKERS', 'ALL_MECHS']\n",
      "Stars:  ['MAX_POWER', 'MAX_POPULARITY', 'ALL_WORKERS', 'ALL_MECHS', 'ALL_UPGRADES']\n",
      "Stars:  ['MAX_POWER', 'MAX_POPULARITY', 'ALL_WORKERS', 'ALL_MECHS', 'ALL_UPGRADES']\n",
      "Stars:  ['MAX_POWER', 'MAX_POPULARITY', 'ALL_WORKERS', 'ALL_MECHS', 'ALL_UPGRADES']\n",
      "Stars:  ['MAX_POWER', 'MAX_POPULARITY', 'ALL_WORKERS', 'ALL_MECHS', 'ALL_UPGRADES']\n"
     ]
    },
    {
     "ename": "TypeError",
     "evalue": "the JSON object must be str, not 'dict'",
     "output_type": "error",
     "traceback": [
      "\u001b[0;31m---------------------------------------------------------------------------\u001b[0m",
      "\u001b[0;31mTypeError\u001b[0m                                 Traceback (most recent call last)",
      "\u001b[0;32m<ipython-input-20-0e0d976bcc68>\u001b[0m in \u001b[0;36m<module>\u001b[0;34m()\u001b[0m\n\u001b[1;32m     21\u001b[0m     \u001b[0mperform_seconday_action_if_available\u001b[0m\u001b[0;34m(\u001b[0m\u001b[0;34m)\u001b[0m\u001b[0;34m\u001b[0m\u001b[0m\n\u001b[1;32m     22\u001b[0m \u001b[0;34m\u001b[0m\u001b[0m\n\u001b[0;32m---> 23\u001b[0;31m     \u001b[0mprint_stars\u001b[0m\u001b[0;34m(\u001b[0m\u001b[0;34m)\u001b[0m\u001b[0;34m\u001b[0m\u001b[0m\n\u001b[0m",
      "\u001b[0;32m<ipython-input-12-ba839e80efce>\u001b[0m in \u001b[0;36mprint_stars\u001b[0;34m()\u001b[0m\n\u001b[1;32m      4\u001b[0m \u001b[0;34m\u001b[0m\u001b[0m\n\u001b[1;32m      5\u001b[0m \u001b[0;32mdef\u001b[0m \u001b[0mprint_stars\u001b[0m\u001b[0;34m(\u001b[0m\u001b[0;34m)\u001b[0m\u001b[0;34m:\u001b[0m\u001b[0;34m\u001b[0m\u001b[0m\n\u001b[0;32m----> 6\u001b[0;31m     \u001b[0mprint\u001b[0m\u001b[0;34m(\u001b[0m\u001b[0;34m\"Stars: \"\u001b[0m \u001b[0;34m,\u001b[0m \u001b[0;34m[\u001b[0m\u001b[0ms\u001b[0m\u001b[0;34m[\u001b[0m\u001b[0;34m'star'\u001b[0m\u001b[0;34m]\u001b[0m \u001b[0;32mfor\u001b[0m \u001b[0ms\u001b[0m \u001b[0;32min\u001b[0m \u001b[0mget_star_events\u001b[0m\u001b[0;34m(\u001b[0m\u001b[0;34m)\u001b[0m\u001b[0;34m]\u001b[0m\u001b[0;34m)\u001b[0m\u001b[0;34m\u001b[0m\u001b[0m\n\u001b[0m\u001b[1;32m      7\u001b[0m \u001b[0;34m\u001b[0m\u001b[0m\n\u001b[1;32m      8\u001b[0m \u001b[0mprint_stars\u001b[0m\u001b[0;34m(\u001b[0m\u001b[0;34m)\u001b[0m\u001b[0;34m\u001b[0m\u001b[0m\n",
      "\u001b[0;32m<ipython-input-12-ba839e80efce>\u001b[0m in \u001b[0;36mget_star_events\u001b[0;34m()\u001b[0m\n\u001b[1;32m      1\u001b[0m \u001b[0;32mdef\u001b[0m \u001b[0mget_star_events\u001b[0m\u001b[0;34m(\u001b[0m\u001b[0;34m)\u001b[0m\u001b[0;34m:\u001b[0m\u001b[0;34m\u001b[0m\u001b[0m\n\u001b[0;32m----> 2\u001b[0;31m     \u001b[0mgame\u001b[0m \u001b[0;34m=\u001b[0m \u001b[0mjson\u001b[0m\u001b[0;34m.\u001b[0m\u001b[0mloads\u001b[0m\u001b[0;34m(\u001b[0m\u001b[0mclient\u001b[0m\u001b[0;34m.\u001b[0m\u001b[0mexport_game\u001b[0m\u001b[0;34m(\u001b[0m\u001b[0;34m)\u001b[0m\u001b[0;34m)\u001b[0m\u001b[0;34m\u001b[0m\u001b[0m\n\u001b[0m\u001b[1;32m      3\u001b[0m     \u001b[0;32mreturn\u001b[0m \u001b[0;34m[\u001b[0m\u001b[0mg\u001b[0m \u001b[0;32mfor\u001b[0m \u001b[0mg\u001b[0m \u001b[0;32min\u001b[0m \u001b[0mgame\u001b[0m \u001b[0;32mif\u001b[0m \u001b[0mg\u001b[0m\u001b[0;34m[\u001b[0m\u001b[0;34m'type'\u001b[0m\u001b[0;34m]\u001b[0m \u001b[0;34m==\u001b[0m \u001b[0;34m'StarEvent'\u001b[0m\u001b[0;34m]\u001b[0m\u001b[0;34m\u001b[0m\u001b[0m\n\u001b[1;32m      4\u001b[0m \u001b[0;34m\u001b[0m\u001b[0m\n\u001b[1;32m      5\u001b[0m \u001b[0;32mdef\u001b[0m \u001b[0mprint_stars\u001b[0m\u001b[0;34m(\u001b[0m\u001b[0;34m)\u001b[0m\u001b[0;34m:\u001b[0m\u001b[0;34m\u001b[0m\u001b[0m\n",
      "\u001b[0;32m/usr/lib/python3.5/json/__init__.py\u001b[0m in \u001b[0;36mloads\u001b[0;34m(s, encoding, cls, object_hook, parse_float, parse_int, parse_constant, object_pairs_hook, **kw)\u001b[0m\n\u001b[1;32m    310\u001b[0m     \u001b[0;32mif\u001b[0m \u001b[0;32mnot\u001b[0m \u001b[0misinstance\u001b[0m\u001b[0;34m(\u001b[0m\u001b[0ms\u001b[0m\u001b[0;34m,\u001b[0m \u001b[0mstr\u001b[0m\u001b[0;34m)\u001b[0m\u001b[0;34m:\u001b[0m\u001b[0;34m\u001b[0m\u001b[0m\n\u001b[1;32m    311\u001b[0m         raise TypeError('the JSON object must be str, not {!r}'.format(\n\u001b[0;32m--> 312\u001b[0;31m                             s.__class__.__name__))\n\u001b[0m\u001b[1;32m    313\u001b[0m     \u001b[0;32mif\u001b[0m \u001b[0ms\u001b[0m\u001b[0;34m.\u001b[0m\u001b[0mstartswith\u001b[0m\u001b[0;34m(\u001b[0m\u001b[0;34mu'\\ufeff'\u001b[0m\u001b[0;34m)\u001b[0m\u001b[0;34m:\u001b[0m\u001b[0;34m\u001b[0m\u001b[0m\n\u001b[1;32m    314\u001b[0m         raise JSONDecodeError(\"Unexpected UTF-8 BOM (decode using utf-8-sig)\",\n",
      "\u001b[0;31mTypeError\u001b[0m: the JSON object must be str, not 'dict'"
     ]
    }
   ],
   "source": [
    "def perform_seconday_action_if_available():\n",
    "    available_actions = client.get_available_actions()\n",
    "    for action in ['ENLIST', 'DEPLOY', 'BUILD', 'UPGRADE']:\n",
    "        if action in available_actions:\n",
    "            number = len(client.get_available_options(action))\n",
    "            client.perform_action(action, random.randint(0, number))\n",
    "            \n",
    "for _ in range(30):\n",
    "    perform_action_matching('BOLSTER', '')\n",
    "    perform_seconday_action_if_available()\n",
    "    \n",
    "    perform_action_matching('TRADE', 'Popularity')\n",
    "    perform_seconday_action_if_available()\n",
    "        \n",
    "    perform_action_matching('MOVE', 'GainCoin')\n",
    "    perform_seconday_action_if_available()\n",
    "\n",
    "    perform_action_matching('PRODUCE', random.choice(['MOUNTAIN', 'FOREST', 'TUNDRA']))\n",
    "    perform_seconday_action_if_available()\n",
    "    perform_action_matching('TRADE', 'OIL')\n",
    "    perform_seconday_action_if_available()\n",
    "    \n",
    "    print_stars()"
   ]
  }
 ],
 "metadata": {
  "kernelspec": {
   "display_name": "Python 3",
   "language": "python",
   "name": "python3"
  },
  "language_info": {
   "codemirror_mode": {
    "name": "ipython",
    "version": 3
   },
   "file_extension": ".py",
   "mimetype": "text/x-python",
   "name": "python",
   "nbconvert_exporter": "python",
   "pygments_lexer": "ipython3",
   "version": "3.5.2"
  }
 },
 "nbformat": 4,
 "nbformat_minor": 2
}
